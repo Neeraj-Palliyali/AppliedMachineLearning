{
  "cells": [
    {
      "cell_type": "markdown",
      "metadata": {
        "id": "KDsDS7WDC0rF"
      },
      "source": [
        "# COMP1804 - Applied Machine Learning"
      ]
    },
    {
      "cell_type": "markdown",
      "source": [
        "Dataset\n",
        "Option 1: \n",
        "<br>\n",
        "Predicting the severity of road accidents in the UK.\n",
        "Emergency services in the UK (non-commercial entities) are looking into developing a\n",
        "system to provide a more effective response in case of road accidents. They want to know if\n",
        "it would be possible to predict the severity of an accident using some variables that can\n",
        "potentially be gathered on the place of the accident. They provide you with a dataset of all\n",
        "the accidents that occurred in 2019 in the UK which contain their variable of interest.\n",
        "They want you to use machine learning techniques to predict the accident severity in details\n",
        "(that is, whether an accident is “fatal”, “serious” or “slight” – 3 classes in total), from all the\n",
        "other features in the dataset. For the avoidance of doubt, the information about accident\n",
        "severity is contained in the column titled “accident_severity”."
      ],
      "metadata": {
        "id": "gNuZ53Bc5Dx8"
      }
    },
    {
      "cell_type": "markdown",
      "metadata": {
        "id": "6288rVvPC0VD"
      },
      "source": [
        "### Basic import and exploration\n"
      ]
    },
    {
      "cell_type": "code",
      "execution_count": 1,
      "metadata": {
        "id": "WuzKii2DKbVu"
      },
      "outputs": [],
      "source": [
        "import pandas as pd\n",
        "import matplotlib.pyplot as plt\n",
        "import panel as pn\n",
        "import numpy as np\n",
        "import seaborn as sns\n",
        "import holoviews as hv"
      ]
    },
    {
      "cell_type": "code",
      "execution_count": 2,
      "metadata": {
        "id": "XqEvS2Y6Ddsi"
      },
      "outputs": [],
      "source": [
        "from IPython.display import HTML\n",
        "def pretty_print_df(value_counts_):\n",
        "  \"Quick function to display value counts more nicely\"\n",
        "  display(HTML(pd.DataFrame(value_counts_).to_html()))"
      ]
    },
    {
      "cell_type": "code",
      "execution_count": 3,
      "metadata": {
        "colab": {
          "base_uri": "https://localhost:8080/",
          "height": 73
        },
        "id": "CxJUYplJlp9Q",
        "outputId": "09e073f2-04e8-466f-d320-927318ee30ed"
      },
      "outputs": [
        {
          "output_type": "display_data",
          "data": {
            "text/plain": [
              "<IPython.core.display.HTML object>"
            ],
            "text/html": [
              "\n",
              "     <input type=\"file\" id=\"files-78c2a939-6a4d-449f-bdfe-c704e9d8f860\" name=\"files[]\" multiple disabled\n",
              "        style=\"border:none\" />\n",
              "     <output id=\"result-78c2a939-6a4d-449f-bdfe-c704e9d8f860\">\n",
              "      Upload widget is only available when the cell has been executed in the\n",
              "      current browser session. Please rerun this cell to enable.\n",
              "      </output>\n",
              "      <script>// Copyright 2017 Google LLC\n",
              "//\n",
              "// Licensed under the Apache License, Version 2.0 (the \"License\");\n",
              "// you may not use this file except in compliance with the License.\n",
              "// You may obtain a copy of the License at\n",
              "//\n",
              "//      http://www.apache.org/licenses/LICENSE-2.0\n",
              "//\n",
              "// Unless required by applicable law or agreed to in writing, software\n",
              "// distributed under the License is distributed on an \"AS IS\" BASIS,\n",
              "// WITHOUT WARRANTIES OR CONDITIONS OF ANY KIND, either express or implied.\n",
              "// See the License for the specific language governing permissions and\n",
              "// limitations under the License.\n",
              "\n",
              "/**\n",
              " * @fileoverview Helpers for google.colab Python module.\n",
              " */\n",
              "(function(scope) {\n",
              "function span(text, styleAttributes = {}) {\n",
              "  const element = document.createElement('span');\n",
              "  element.textContent = text;\n",
              "  for (const key of Object.keys(styleAttributes)) {\n",
              "    element.style[key] = styleAttributes[key];\n",
              "  }\n",
              "  return element;\n",
              "}\n",
              "\n",
              "// Max number of bytes which will be uploaded at a time.\n",
              "const MAX_PAYLOAD_SIZE = 100 * 1024;\n",
              "\n",
              "function _uploadFiles(inputId, outputId) {\n",
              "  const steps = uploadFilesStep(inputId, outputId);\n",
              "  const outputElement = document.getElementById(outputId);\n",
              "  // Cache steps on the outputElement to make it available for the next call\n",
              "  // to uploadFilesContinue from Python.\n",
              "  outputElement.steps = steps;\n",
              "\n",
              "  return _uploadFilesContinue(outputId);\n",
              "}\n",
              "\n",
              "// This is roughly an async generator (not supported in the browser yet),\n",
              "// where there are multiple asynchronous steps and the Python side is going\n",
              "// to poll for completion of each step.\n",
              "// This uses a Promise to block the python side on completion of each step,\n",
              "// then passes the result of the previous step as the input to the next step.\n",
              "function _uploadFilesContinue(outputId) {\n",
              "  const outputElement = document.getElementById(outputId);\n",
              "  const steps = outputElement.steps;\n",
              "\n",
              "  const next = steps.next(outputElement.lastPromiseValue);\n",
              "  return Promise.resolve(next.value.promise).then((value) => {\n",
              "    // Cache the last promise value to make it available to the next\n",
              "    // step of the generator.\n",
              "    outputElement.lastPromiseValue = value;\n",
              "    return next.value.response;\n",
              "  });\n",
              "}\n",
              "\n",
              "/**\n",
              " * Generator function which is called between each async step of the upload\n",
              " * process.\n",
              " * @param {string} inputId Element ID of the input file picker element.\n",
              " * @param {string} outputId Element ID of the output display.\n",
              " * @return {!Iterable<!Object>} Iterable of next steps.\n",
              " */\n",
              "function* uploadFilesStep(inputId, outputId) {\n",
              "  const inputElement = document.getElementById(inputId);\n",
              "  inputElement.disabled = false;\n",
              "\n",
              "  const outputElement = document.getElementById(outputId);\n",
              "  outputElement.innerHTML = '';\n",
              "\n",
              "  const pickedPromise = new Promise((resolve) => {\n",
              "    inputElement.addEventListener('change', (e) => {\n",
              "      resolve(e.target.files);\n",
              "    });\n",
              "  });\n",
              "\n",
              "  const cancel = document.createElement('button');\n",
              "  inputElement.parentElement.appendChild(cancel);\n",
              "  cancel.textContent = 'Cancel upload';\n",
              "  const cancelPromise = new Promise((resolve) => {\n",
              "    cancel.onclick = () => {\n",
              "      resolve(null);\n",
              "    };\n",
              "  });\n",
              "\n",
              "  // Wait for the user to pick the files.\n",
              "  const files = yield {\n",
              "    promise: Promise.race([pickedPromise, cancelPromise]),\n",
              "    response: {\n",
              "      action: 'starting',\n",
              "    }\n",
              "  };\n",
              "\n",
              "  cancel.remove();\n",
              "\n",
              "  // Disable the input element since further picks are not allowed.\n",
              "  inputElement.disabled = true;\n",
              "\n",
              "  if (!files) {\n",
              "    return {\n",
              "      response: {\n",
              "        action: 'complete',\n",
              "      }\n",
              "    };\n",
              "  }\n",
              "\n",
              "  for (const file of files) {\n",
              "    const li = document.createElement('li');\n",
              "    li.append(span(file.name, {fontWeight: 'bold'}));\n",
              "    li.append(span(\n",
              "        `(${file.type || 'n/a'}) - ${file.size} bytes, ` +\n",
              "        `last modified: ${\n",
              "            file.lastModifiedDate ? file.lastModifiedDate.toLocaleDateString() :\n",
              "                                    'n/a'} - `));\n",
              "    const percent = span('0% done');\n",
              "    li.appendChild(percent);\n",
              "\n",
              "    outputElement.appendChild(li);\n",
              "\n",
              "    const fileDataPromise = new Promise((resolve) => {\n",
              "      const reader = new FileReader();\n",
              "      reader.onload = (e) => {\n",
              "        resolve(e.target.result);\n",
              "      };\n",
              "      reader.readAsArrayBuffer(file);\n",
              "    });\n",
              "    // Wait for the data to be ready.\n",
              "    let fileData = yield {\n",
              "      promise: fileDataPromise,\n",
              "      response: {\n",
              "        action: 'continue',\n",
              "      }\n",
              "    };\n",
              "\n",
              "    // Use a chunked sending to avoid message size limits. See b/62115660.\n",
              "    let position = 0;\n",
              "    do {\n",
              "      const length = Math.min(fileData.byteLength - position, MAX_PAYLOAD_SIZE);\n",
              "      const chunk = new Uint8Array(fileData, position, length);\n",
              "      position += length;\n",
              "\n",
              "      const base64 = btoa(String.fromCharCode.apply(null, chunk));\n",
              "      yield {\n",
              "        response: {\n",
              "          action: 'append',\n",
              "          file: file.name,\n",
              "          data: base64,\n",
              "        },\n",
              "      };\n",
              "\n",
              "      let percentDone = fileData.byteLength === 0 ?\n",
              "          100 :\n",
              "          Math.round((position / fileData.byteLength) * 100);\n",
              "      percent.textContent = `${percentDone}% done`;\n",
              "\n",
              "    } while (position < fileData.byteLength);\n",
              "  }\n",
              "\n",
              "  // All done.\n",
              "  yield {\n",
              "    response: {\n",
              "      action: 'complete',\n",
              "    }\n",
              "  };\n",
              "}\n",
              "\n",
              "scope.google = scope.google || {};\n",
              "scope.google.colab = scope.google.colab || {};\n",
              "scope.google.colab._files = {\n",
              "  _uploadFiles,\n",
              "  _uploadFilesContinue,\n",
              "};\n",
              "})(self);\n",
              "</script> "
            ]
          },
          "metadata": {}
        },
        {
          "output_type": "stream",
          "name": "stdout",
          "text": [
            "Saving OPTION1_uk_road_accident_2019_coursework_final.csv to OPTION1_uk_road_accident_2019_coursework_final (1).csv\n"
          ]
        }
      ],
      "source": [
        "from google.colab import files\n",
        "import io\n",
        "import warnings\n",
        "warnings.filterwarnings(action=\"ignore\")\n",
        "\n",
        "uploaded = files.upload()\n",
        "df = pd.read_csv(io.BytesIO(uploaded['OPTION1_uk_road_accident_2019_coursework_final.csv']))"
      ]
    },
    {
      "cell_type": "code",
      "execution_count": 4,
      "metadata": {
        "id": "SjKXLWWdmX4b",
        "colab": {
          "base_uri": "https://localhost:8080/"
        },
        "outputId": "8431e640-4fa6-4ca5-97fd-cc6dc7ffab10"
      },
      "outputs": [
        {
          "output_type": "stream",
          "name": "stdout",
          "text": [
            "Data points and features:\n",
            " (31647, 14)\n",
            "\n",
            "The list of all the features:\n",
            " Index(['accident_index', 'speed_limit', 'light_conditions',\n",
            "       'weather_conditions', 'road_surface_conditions', 'vehicle_type',\n",
            "       'junction_location', 'skidding_and_overturning',\n",
            "       'vehicle_leaving_carriageway', 'hit_object_off_carriageway',\n",
            "       'first_point_of_impact', 'sex_of_driver', 'age_of_oldest_driver',\n",
            "       'accident_severity'],\n",
            "      dtype='object')\n",
            "\n",
            "All the features with its datatype:\n",
            " accident_index                  object\n",
            "speed_limit                      int64\n",
            "light_conditions                object\n",
            "weather_conditions              object\n",
            "road_surface_conditions         object\n",
            "vehicle_type                    object\n",
            "junction_location               object\n",
            "skidding_and_overturning        object\n",
            "vehicle_leaving_carriageway     object\n",
            "hit_object_off_carriageway      object\n",
            "first_point_of_impact           object\n",
            "sex_of_driver                   object\n",
            "age_of_oldest_driver           float64\n",
            "accident_severity               object\n",
            "dtype: object\n"
          ]
        }
      ],
      "source": [
        "# Data set info\n",
        "print(\"Data points and features:\\n\",df.shape)\n",
        "print(\"\\nThe list of all the features:\\n\",df.columns)\n",
        "print(\"\\nAll the features with its datatype:\\n\",df.dtypes)\n"
      ]
    },
    {
      "cell_type": "code",
      "execution_count": 5,
      "metadata": {
        "id": "jhQS9_N1xwvx",
        "colab": {
          "base_uri": "https://localhost:8080/",
          "height": 357
        },
        "outputId": "be680620-fbc7-4332-aca3-a940ef3db2f6"
      },
      "outputs": [
        {
          "output_type": "execute_result",
          "data": {
            "text/plain": [
              "  accident_index  speed_limit light_conditions weather_conditions  \\\n",
              "0  2019010225080           30         darkness              other   \n",
              "1  2019200908684           30         darkness               fine   \n",
              "2  2019040860897           40         daylight               fine   \n",
              "3  2019460847205           40         daylight               fine   \n",
              "4  2019051911581           30         daylight               fine   \n",
              "\n",
              "  road_surface_conditions      vehicle_type  \\\n",
              "0             wet or damp  at least one van   \n",
              "1                     dry         only cars   \n",
              "2                     dry         only cars   \n",
              "3                     dry         only cars   \n",
              "4                     dry         only cars   \n",
              "\n",
              "                        junction_location    skidding_and_overturning  \\\n",
              "0      at or within 20 metres of junction  no skidding or overturning   \n",
              "1      at or within 20 metres of junction  no skidding or overturning   \n",
              "2      at or within 20 metres of junction  no skidding or overturning   \n",
              "3  not at or within 20 metres of junction  no skidding or overturning   \n",
              "4  not at or within 20 metres of junction  no skidding or overturning   \n",
              "\n",
              "                vehicle_leaving_carriageway  \\\n",
              "0                  none leaving carriageway   \n",
              "1  at least one vehicle leaving carriageway   \n",
              "2                  none leaving carriageway   \n",
              "3                  none leaving carriageway   \n",
              "4                  none leaving carriageway   \n",
              "\n",
              "           hit_object_off_carriageway  \\\n",
              "0                  none hit an object   \n",
              "1  at least one vehicle hit an object   \n",
              "2                  none hit an object   \n",
              "3                  none hit an object   \n",
              "4                  none hit an object   \n",
              "\n",
              "                      first_point_of_impact                 sex_of_driver  \\\n",
              "0                    other points of impact                     all males   \n",
              "1  at least one vehicle with frontal impact                     all males   \n",
              "2  at least one vehicle with frontal impact  data missing or out of range   \n",
              "3  at least one vehicle with frontal impact               male and female   \n",
              "4  at least one vehicle with frontal impact                   all females   \n",
              "\n",
              "   age_of_oldest_driver accident_severity  \n",
              "0                  63.0           serious  \n",
              "1                  82.0             fatal  \n",
              "2                   NaN           serious  \n",
              "3                   NaN           serious  \n",
              "4                  39.0            slight  "
            ],
            "text/html": [
              "\n",
              "  <div id=\"df-e712271d-271d-4450-9c90-012d323da646\">\n",
              "    <div class=\"colab-df-container\">\n",
              "      <div>\n",
              "<style scoped>\n",
              "    .dataframe tbody tr th:only-of-type {\n",
              "        vertical-align: middle;\n",
              "    }\n",
              "\n",
              "    .dataframe tbody tr th {\n",
              "        vertical-align: top;\n",
              "    }\n",
              "\n",
              "    .dataframe thead th {\n",
              "        text-align: right;\n",
              "    }\n",
              "</style>\n",
              "<table border=\"1\" class=\"dataframe\">\n",
              "  <thead>\n",
              "    <tr style=\"text-align: right;\">\n",
              "      <th></th>\n",
              "      <th>accident_index</th>\n",
              "      <th>speed_limit</th>\n",
              "      <th>light_conditions</th>\n",
              "      <th>weather_conditions</th>\n",
              "      <th>road_surface_conditions</th>\n",
              "      <th>vehicle_type</th>\n",
              "      <th>junction_location</th>\n",
              "      <th>skidding_and_overturning</th>\n",
              "      <th>vehicle_leaving_carriageway</th>\n",
              "      <th>hit_object_off_carriageway</th>\n",
              "      <th>first_point_of_impact</th>\n",
              "      <th>sex_of_driver</th>\n",
              "      <th>age_of_oldest_driver</th>\n",
              "      <th>accident_severity</th>\n",
              "    </tr>\n",
              "  </thead>\n",
              "  <tbody>\n",
              "    <tr>\n",
              "      <th>0</th>\n",
              "      <td>2019010225080</td>\n",
              "      <td>30</td>\n",
              "      <td>darkness</td>\n",
              "      <td>other</td>\n",
              "      <td>wet or damp</td>\n",
              "      <td>at least one van</td>\n",
              "      <td>at or within 20 metres of junction</td>\n",
              "      <td>no skidding or overturning</td>\n",
              "      <td>none leaving carriageway</td>\n",
              "      <td>none hit an object</td>\n",
              "      <td>other points of impact</td>\n",
              "      <td>all males</td>\n",
              "      <td>63.0</td>\n",
              "      <td>serious</td>\n",
              "    </tr>\n",
              "    <tr>\n",
              "      <th>1</th>\n",
              "      <td>2019200908684</td>\n",
              "      <td>30</td>\n",
              "      <td>darkness</td>\n",
              "      <td>fine</td>\n",
              "      <td>dry</td>\n",
              "      <td>only cars</td>\n",
              "      <td>at or within 20 metres of junction</td>\n",
              "      <td>no skidding or overturning</td>\n",
              "      <td>at least one vehicle leaving carriageway</td>\n",
              "      <td>at least one vehicle hit an object</td>\n",
              "      <td>at least one vehicle with frontal impact</td>\n",
              "      <td>all males</td>\n",
              "      <td>82.0</td>\n",
              "      <td>fatal</td>\n",
              "    </tr>\n",
              "    <tr>\n",
              "      <th>2</th>\n",
              "      <td>2019040860897</td>\n",
              "      <td>40</td>\n",
              "      <td>daylight</td>\n",
              "      <td>fine</td>\n",
              "      <td>dry</td>\n",
              "      <td>only cars</td>\n",
              "      <td>at or within 20 metres of junction</td>\n",
              "      <td>no skidding or overturning</td>\n",
              "      <td>none leaving carriageway</td>\n",
              "      <td>none hit an object</td>\n",
              "      <td>at least one vehicle with frontal impact</td>\n",
              "      <td>data missing or out of range</td>\n",
              "      <td>NaN</td>\n",
              "      <td>serious</td>\n",
              "    </tr>\n",
              "    <tr>\n",
              "      <th>3</th>\n",
              "      <td>2019460847205</td>\n",
              "      <td>40</td>\n",
              "      <td>daylight</td>\n",
              "      <td>fine</td>\n",
              "      <td>dry</td>\n",
              "      <td>only cars</td>\n",
              "      <td>not at or within 20 metres of junction</td>\n",
              "      <td>no skidding or overturning</td>\n",
              "      <td>none leaving carriageway</td>\n",
              "      <td>none hit an object</td>\n",
              "      <td>at least one vehicle with frontal impact</td>\n",
              "      <td>male and female</td>\n",
              "      <td>NaN</td>\n",
              "      <td>serious</td>\n",
              "    </tr>\n",
              "    <tr>\n",
              "      <th>4</th>\n",
              "      <td>2019051911581</td>\n",
              "      <td>30</td>\n",
              "      <td>daylight</td>\n",
              "      <td>fine</td>\n",
              "      <td>dry</td>\n",
              "      <td>only cars</td>\n",
              "      <td>not at or within 20 metres of junction</td>\n",
              "      <td>no skidding or overturning</td>\n",
              "      <td>none leaving carriageway</td>\n",
              "      <td>none hit an object</td>\n",
              "      <td>at least one vehicle with frontal impact</td>\n",
              "      <td>all females</td>\n",
              "      <td>39.0</td>\n",
              "      <td>slight</td>\n",
              "    </tr>\n",
              "  </tbody>\n",
              "</table>\n",
              "</div>\n",
              "      <button class=\"colab-df-convert\" onclick=\"convertToInteractive('df-e712271d-271d-4450-9c90-012d323da646')\"\n",
              "              title=\"Convert this dataframe to an interactive table.\"\n",
              "              style=\"display:none;\">\n",
              "        \n",
              "  <svg xmlns=\"http://www.w3.org/2000/svg\" height=\"24px\"viewBox=\"0 0 24 24\"\n",
              "       width=\"24px\">\n",
              "    <path d=\"M0 0h24v24H0V0z\" fill=\"none\"/>\n",
              "    <path d=\"M18.56 5.44l.94 2.06.94-2.06 2.06-.94-2.06-.94-.94-2.06-.94 2.06-2.06.94zm-11 1L8.5 8.5l.94-2.06 2.06-.94-2.06-.94L8.5 2.5l-.94 2.06-2.06.94zm10 10l.94 2.06.94-2.06 2.06-.94-2.06-.94-.94-2.06-.94 2.06-2.06.94z\"/><path d=\"M17.41 7.96l-1.37-1.37c-.4-.4-.92-.59-1.43-.59-.52 0-1.04.2-1.43.59L10.3 9.45l-7.72 7.72c-.78.78-.78 2.05 0 2.83L4 21.41c.39.39.9.59 1.41.59.51 0 1.02-.2 1.41-.59l7.78-7.78 2.81-2.81c.8-.78.8-2.07 0-2.86zM5.41 20L4 18.59l7.72-7.72 1.47 1.35L5.41 20z\"/>\n",
              "  </svg>\n",
              "      </button>\n",
              "      \n",
              "  <style>\n",
              "    .colab-df-container {\n",
              "      display:flex;\n",
              "      flex-wrap:wrap;\n",
              "      gap: 12px;\n",
              "    }\n",
              "\n",
              "    .colab-df-convert {\n",
              "      background-color: #E8F0FE;\n",
              "      border: none;\n",
              "      border-radius: 50%;\n",
              "      cursor: pointer;\n",
              "      display: none;\n",
              "      fill: #1967D2;\n",
              "      height: 32px;\n",
              "      padding: 0 0 0 0;\n",
              "      width: 32px;\n",
              "    }\n",
              "\n",
              "    .colab-df-convert:hover {\n",
              "      background-color: #E2EBFA;\n",
              "      box-shadow: 0px 1px 2px rgba(60, 64, 67, 0.3), 0px 1px 3px 1px rgba(60, 64, 67, 0.15);\n",
              "      fill: #174EA6;\n",
              "    }\n",
              "\n",
              "    [theme=dark] .colab-df-convert {\n",
              "      background-color: #3B4455;\n",
              "      fill: #D2E3FC;\n",
              "    }\n",
              "\n",
              "    [theme=dark] .colab-df-convert:hover {\n",
              "      background-color: #434B5C;\n",
              "      box-shadow: 0px 1px 3px 1px rgba(0, 0, 0, 0.15);\n",
              "      filter: drop-shadow(0px 1px 2px rgba(0, 0, 0, 0.3));\n",
              "      fill: #FFFFFF;\n",
              "    }\n",
              "  </style>\n",
              "\n",
              "      <script>\n",
              "        const buttonEl =\n",
              "          document.querySelector('#df-e712271d-271d-4450-9c90-012d323da646 button.colab-df-convert');\n",
              "        buttonEl.style.display =\n",
              "          google.colab.kernel.accessAllowed ? 'block' : 'none';\n",
              "\n",
              "        async function convertToInteractive(key) {\n",
              "          const element = document.querySelector('#df-e712271d-271d-4450-9c90-012d323da646');\n",
              "          const dataTable =\n",
              "            await google.colab.kernel.invokeFunction('convertToInteractive',\n",
              "                                                     [key], {});\n",
              "          if (!dataTable) return;\n",
              "\n",
              "          const docLinkHtml = 'Like what you see? Visit the ' +\n",
              "            '<a target=\"_blank\" href=https://colab.research.google.com/notebooks/data_table.ipynb>data table notebook</a>'\n",
              "            + ' to learn more about interactive tables.';\n",
              "          element.innerHTML = '';\n",
              "          dataTable['output_type'] = 'display_data';\n",
              "          await google.colab.output.renderOutput(dataTable, element);\n",
              "          const docLink = document.createElement('div');\n",
              "          docLink.innerHTML = docLinkHtml;\n",
              "          element.appendChild(docLink);\n",
              "        }\n",
              "      </script>\n",
              "    </div>\n",
              "  </div>\n",
              "  "
            ]
          },
          "metadata": {},
          "execution_count": 5
        }
      ],
      "source": [
        "# The first five rows of the dataset\n",
        "df.head()"
      ]
    },
    {
      "cell_type": "markdown",
      "metadata": {
        "id": "DrMwnphpDAwA"
      },
      "source": [
        "### Data quality and Data analysis"
      ]
    },
    {
      "cell_type": "markdown",
      "metadata": {
        "id": "krTV4Lx6DNn2"
      },
      "source": [
        "Numerical columns"
      ]
    },
    {
      "cell_type": "code",
      "execution_count": 6,
      "metadata": {
        "colab": {
          "base_uri": "https://localhost:8080/"
        },
        "id": "GNbHOlcb0kVk",
        "outputId": "8b478439-7db4-4a7b-f2aa-65646611c757"
      },
      "outputs": [
        {
          "output_type": "stream",
          "name": "stdout",
          "text": [
            "(31647, 14)\n",
            "        speed_limit  age_of_oldest_driver\n",
            "count  31647.000000          25197.000000\n",
            "mean      36.572029             47.254038\n",
            "std       13.837362             16.779656\n",
            "min       -1.000000              6.000000\n",
            "25%       30.000000             34.000000\n",
            "50%       30.000000             47.000000\n",
            "75%       40.000000             59.000000\n",
            "max       70.000000            101.000000\n",
            "(31647, 14)\n"
          ]
        }
      ],
      "source": [
        "# Summary statistics for numerical features\n",
        "print(df.shape)\n",
        "print(df.describe())\n",
        "# df = df.drop_duplicates()\n",
        "print(df.shape)"
      ]
    },
    {
      "cell_type": "markdown",
      "metadata": {
        "id": "D_vauZG9DKGl"
      },
      "source": [
        "Categorical columns"
      ]
    },
    {
      "cell_type": "code",
      "execution_count": 7,
      "metadata": {
        "colab": {
          "base_uri": "https://localhost:8080/",
          "height": 1000
        },
        "id": "SQzkSbv7Cydh",
        "outputId": "faa943a0-31fe-40cd-8d4d-800210b32f3e"
      },
      "outputs": [
        {
          "output_type": "stream",
          "name": "stdout",
          "text": [
            "Categories and number of occurrences for 'light_conditions'\n"
          ]
        },
        {
          "output_type": "display_data",
          "data": {
            "text/plain": [
              "<IPython.core.display.HTML object>"
            ],
            "text/html": [
              "<table border=\"1\" class=\"dataframe\">\n",
              "  <thead>\n",
              "    <tr style=\"text-align: right;\">\n",
              "      <th></th>\n",
              "      <th>light_conditions</th>\n",
              "    </tr>\n",
              "  </thead>\n",
              "  <tbody>\n",
              "    <tr>\n",
              "      <th>daylight</th>\n",
              "      <td>22210</td>\n",
              "    </tr>\n",
              "    <tr>\n",
              "      <th>darkness</th>\n",
              "      <td>9437</td>\n",
              "    </tr>\n",
              "  </tbody>\n",
              "</table>"
            ]
          },
          "metadata": {}
        },
        {
          "output_type": "stream",
          "name": "stdout",
          "text": [
            "Categories and number of occurrences for 'weather_conditions'\n"
          ]
        },
        {
          "output_type": "display_data",
          "data": {
            "text/plain": [
              "<IPython.core.display.HTML object>"
            ],
            "text/html": [
              "<table border=\"1\" class=\"dataframe\">\n",
              "  <thead>\n",
              "    <tr style=\"text-align: right;\">\n",
              "      <th></th>\n",
              "      <th>weather_conditions</th>\n",
              "    </tr>\n",
              "  </thead>\n",
              "  <tbody>\n",
              "    <tr>\n",
              "      <th>fine</th>\n",
              "      <td>25152</td>\n",
              "    </tr>\n",
              "    <tr>\n",
              "      <th>other</th>\n",
              "      <td>5407</td>\n",
              "    </tr>\n",
              "    <tr>\n",
              "      <th>data missing or out of range</th>\n",
              "      <td>970</td>\n",
              "    </tr>\n",
              "    <tr>\n",
              "      <th>fog or mist</th>\n",
              "      <td>118</td>\n",
              "    </tr>\n",
              "  </tbody>\n",
              "</table>"
            ]
          },
          "metadata": {}
        },
        {
          "output_type": "stream",
          "name": "stdout",
          "text": [
            "Categories and number of occurrences for 'road_surface_conditions'\n"
          ]
        },
        {
          "output_type": "display_data",
          "data": {
            "text/plain": [
              "<IPython.core.display.HTML object>"
            ],
            "text/html": [
              "<table border=\"1\" class=\"dataframe\">\n",
              "  <thead>\n",
              "    <tr style=\"text-align: right;\">\n",
              "      <th></th>\n",
              "      <th>road_surface_conditions</th>\n",
              "    </tr>\n",
              "  </thead>\n",
              "  <tbody>\n",
              "    <tr>\n",
              "      <th>dry</th>\n",
              "      <td>22092</td>\n",
              "    </tr>\n",
              "    <tr>\n",
              "      <th>wet or damp</th>\n",
              "      <td>8761</td>\n",
              "    </tr>\n",
              "    <tr>\n",
              "      <th>other</th>\n",
              "      <td>374</td>\n",
              "    </tr>\n",
              "    <tr>\n",
              "      <th>data missing or out of range</th>\n",
              "      <td>365</td>\n",
              "    </tr>\n",
              "    <tr>\n",
              "      <th>flood over 3cm. deep</th>\n",
              "      <td>55</td>\n",
              "    </tr>\n",
              "  </tbody>\n",
              "</table>"
            ]
          },
          "metadata": {}
        },
        {
          "output_type": "stream",
          "name": "stdout",
          "text": [
            "Categories and number of occurrences for 'vehicle_type'\n"
          ]
        },
        {
          "output_type": "display_data",
          "data": {
            "text/plain": [
              "<IPython.core.display.HTML object>"
            ],
            "text/html": [
              "<table border=\"1\" class=\"dataframe\">\n",
              "  <thead>\n",
              "    <tr style=\"text-align: right;\">\n",
              "      <th></th>\n",
              "      <th>vehicle_type</th>\n",
              "    </tr>\n",
              "  </thead>\n",
              "  <tbody>\n",
              "    <tr>\n",
              "      <th>only cars</th>\n",
              "      <td>17487</td>\n",
              "    </tr>\n",
              "    <tr>\n",
              "      <th>at least one biped</th>\n",
              "      <td>8662</td>\n",
              "    </tr>\n",
              "    <tr>\n",
              "      <th>at least one van</th>\n",
              "      <td>4040</td>\n",
              "    </tr>\n",
              "    <tr>\n",
              "      <th>biped and van</th>\n",
              "      <td>1000</td>\n",
              "    </tr>\n",
              "    <tr>\n",
              "      <th>other</th>\n",
              "      <td>395</td>\n",
              "    </tr>\n",
              "    <tr>\n",
              "      <th>data missing or out of range</th>\n",
              "      <td>63</td>\n",
              "    </tr>\n",
              "  </tbody>\n",
              "</table>"
            ]
          },
          "metadata": {}
        },
        {
          "output_type": "stream",
          "name": "stdout",
          "text": [
            "Categories and number of occurrences for 'junction_location'\n"
          ]
        },
        {
          "output_type": "display_data",
          "data": {
            "text/plain": [
              "<IPython.core.display.HTML object>"
            ],
            "text/html": [
              "<table border=\"1\" class=\"dataframe\">\n",
              "  <thead>\n",
              "    <tr style=\"text-align: right;\">\n",
              "      <th></th>\n",
              "      <th>junction_location</th>\n",
              "    </tr>\n",
              "  </thead>\n",
              "  <tbody>\n",
              "    <tr>\n",
              "      <th>at or within 20 metres of junction</th>\n",
              "      <td>17204</td>\n",
              "    </tr>\n",
              "    <tr>\n",
              "      <th>not at or within 20 metres of junction</th>\n",
              "      <td>12973</td>\n",
              "    </tr>\n",
              "    <tr>\n",
              "      <th>data missing or out of range</th>\n",
              "      <td>1470</td>\n",
              "    </tr>\n",
              "  </tbody>\n",
              "</table>"
            ]
          },
          "metadata": {}
        },
        {
          "output_type": "stream",
          "name": "stdout",
          "text": [
            "Categories and number of occurrences for 'skidding_and_overturning'\n"
          ]
        },
        {
          "output_type": "display_data",
          "data": {
            "text/plain": [
              "<IPython.core.display.HTML object>"
            ],
            "text/html": [
              "<table border=\"1\" class=\"dataframe\">\n",
              "  <thead>\n",
              "    <tr style=\"text-align: right;\">\n",
              "      <th></th>\n",
              "      <th>skidding_and_overturning</th>\n",
              "    </tr>\n",
              "  </thead>\n",
              "  <tbody>\n",
              "    <tr>\n",
              "      <th>no skidding or overturning</th>\n",
              "      <td>24387</td>\n",
              "    </tr>\n",
              "    <tr>\n",
              "      <th>at least one vehicle skidded or overturned</th>\n",
              "      <td>5226</td>\n",
              "    </tr>\n",
              "    <tr>\n",
              "      <th>data missing or out of range</th>\n",
              "      <td>2034</td>\n",
              "    </tr>\n",
              "  </tbody>\n",
              "</table>"
            ]
          },
          "metadata": {}
        },
        {
          "output_type": "stream",
          "name": "stdout",
          "text": [
            "Categories and number of occurrences for 'vehicle_leaving_carriageway'\n"
          ]
        },
        {
          "output_type": "display_data",
          "data": {
            "text/plain": [
              "<IPython.core.display.HTML object>"
            ],
            "text/html": [
              "<table border=\"1\" class=\"dataframe\">\n",
              "  <thead>\n",
              "    <tr style=\"text-align: right;\">\n",
              "      <th></th>\n",
              "      <th>vehicle_leaving_carriageway</th>\n",
              "    </tr>\n",
              "  </thead>\n",
              "  <tbody>\n",
              "    <tr>\n",
              "      <th>none leaving carriageway</th>\n",
              "      <td>24019</td>\n",
              "    </tr>\n",
              "    <tr>\n",
              "      <th>at least one vehicle leaving carriageway</th>\n",
              "      <td>5661</td>\n",
              "    </tr>\n",
              "    <tr>\n",
              "      <th>data missing or out of range</th>\n",
              "      <td>1967</td>\n",
              "    </tr>\n",
              "  </tbody>\n",
              "</table>"
            ]
          },
          "metadata": {}
        },
        {
          "output_type": "stream",
          "name": "stdout",
          "text": [
            "Categories and number of occurrences for 'hit_object_off_carriageway'\n"
          ]
        },
        {
          "output_type": "display_data",
          "data": {
            "text/plain": [
              "<IPython.core.display.HTML object>"
            ],
            "text/html": [
              "<table border=\"1\" class=\"dataframe\">\n",
              "  <thead>\n",
              "    <tr style=\"text-align: right;\">\n",
              "      <th></th>\n",
              "      <th>hit_object_off_carriageway</th>\n",
              "    </tr>\n",
              "  </thead>\n",
              "  <tbody>\n",
              "    <tr>\n",
              "      <th>none hit an object</th>\n",
              "      <td>26129</td>\n",
              "    </tr>\n",
              "    <tr>\n",
              "      <th>at least one vehicle hit an object</th>\n",
              "      <td>3655</td>\n",
              "    </tr>\n",
              "    <tr>\n",
              "      <th>data missing or out of range</th>\n",
              "      <td>1863</td>\n",
              "    </tr>\n",
              "  </tbody>\n",
              "</table>"
            ]
          },
          "metadata": {}
        },
        {
          "output_type": "stream",
          "name": "stdout",
          "text": [
            "Categories and number of occurrences for 'first_point_of_impact'\n"
          ]
        },
        {
          "output_type": "display_data",
          "data": {
            "text/plain": [
              "<IPython.core.display.HTML object>"
            ],
            "text/html": [
              "<table border=\"1\" class=\"dataframe\">\n",
              "  <thead>\n",
              "    <tr style=\"text-align: right;\">\n",
              "      <th></th>\n",
              "      <th>first_point_of_impact</th>\n",
              "    </tr>\n",
              "  </thead>\n",
              "  <tbody>\n",
              "    <tr>\n",
              "      <th>at least one vehicle with frontal impact</th>\n",
              "      <td>23002</td>\n",
              "    </tr>\n",
              "    <tr>\n",
              "      <th>other points of impact</th>\n",
              "      <td>6008</td>\n",
              "    </tr>\n",
              "    <tr>\n",
              "      <th>no impact</th>\n",
              "      <td>1333</td>\n",
              "    </tr>\n",
              "    <tr>\n",
              "      <th>data missing or out of range</th>\n",
              "      <td>1304</td>\n",
              "    </tr>\n",
              "  </tbody>\n",
              "</table>"
            ]
          },
          "metadata": {}
        },
        {
          "output_type": "stream",
          "name": "stdout",
          "text": [
            "Categories and number of occurrences for 'sex_of_driver'\n"
          ]
        },
        {
          "output_type": "display_data",
          "data": {
            "text/plain": [
              "<IPython.core.display.HTML object>"
            ],
            "text/html": [
              "<table border=\"1\" class=\"dataframe\">\n",
              "  <thead>\n",
              "    <tr style=\"text-align: right;\">\n",
              "      <th></th>\n",
              "      <th>sex_of_driver</th>\n",
              "    </tr>\n",
              "  </thead>\n",
              "  <tbody>\n",
              "    <tr>\n",
              "      <th>all males</th>\n",
              "      <td>15494</td>\n",
              "    </tr>\n",
              "    <tr>\n",
              "      <th>male and female</th>\n",
              "      <td>7015</td>\n",
              "    </tr>\n",
              "    <tr>\n",
              "      <th>data missing or out of range</th>\n",
              "      <td>5122</td>\n",
              "    </tr>\n",
              "    <tr>\n",
              "      <th>all females</th>\n",
              "      <td>4016</td>\n",
              "    </tr>\n",
              "  </tbody>\n",
              "</table>"
            ]
          },
          "metadata": {}
        },
        {
          "output_type": "stream",
          "name": "stdout",
          "text": [
            "Categories and number of occurrences for 'accident_severity'\n"
          ]
        },
        {
          "output_type": "display_data",
          "data": {
            "text/plain": [
              "<IPython.core.display.HTML object>"
            ],
            "text/html": [
              "<table border=\"1\" class=\"dataframe\">\n",
              "  <thead>\n",
              "    <tr style=\"text-align: right;\">\n",
              "      <th></th>\n",
              "      <th>accident_severity</th>\n",
              "    </tr>\n",
              "  </thead>\n",
              "  <tbody>\n",
              "    <tr>\n",
              "      <th>slight</th>\n",
              "      <td>12672</td>\n",
              "    </tr>\n",
              "    <tr>\n",
              "      <th>serious</th>\n",
              "      <td>11592</td>\n",
              "    </tr>\n",
              "    <tr>\n",
              "      <th>fatal</th>\n",
              "      <td>6159</td>\n",
              "    </tr>\n",
              "    <tr>\n",
              "      <th>Serious</th>\n",
              "      <td>25</td>\n",
              "    </tr>\n",
              "    <tr>\n",
              "      <th>Slight</th>\n",
              "      <td>19</td>\n",
              "    </tr>\n",
              "    <tr>\n",
              "      <th>Fatal</th>\n",
              "      <td>8</td>\n",
              "    </tr>\n",
              "  </tbody>\n",
              "</table>"
            ]
          },
          "metadata": {}
        }
      ],
      "source": [
        "categorical_columns =  [ 'light_conditions', 'weather_conditions',\n",
        "       'road_surface_conditions', 'vehicle_type', 'junction_location',\n",
        "       'skidding_and_overturning', 'vehicle_leaving_carriageway',\n",
        "       'hit_object_off_carriageway', 'first_point_of_impact', 'sex_of_driver',\n",
        "        'accident_severity']\n",
        "\n",
        "\n",
        "for col in categorical_columns:\n",
        "  print(f\"Categories and number of occurrences for '{col}'\")\n",
        "  pretty_print_df(df[col].value_counts())"
      ]
    },
    {
      "cell_type": "markdown",
      "metadata": {
        "id": "HSGL1g4XCzgN"
      },
      "source": [
        "Severity has both names slight and Slight similarly for fatal and serious so renaming those will be better for quality"
      ]
    },
    {
      "cell_type": "code",
      "execution_count": 8,
      "metadata": {
        "colab": {
          "base_uri": "https://localhost:8080/",
          "height": 161
        },
        "id": "sdjLpRZUD_ZV",
        "outputId": "1e45a12f-45e9-4568-e624-a8024c0d0647"
      },
      "outputs": [
        {
          "output_type": "stream",
          "name": "stdout",
          "text": [
            "Some accident_severity has issues so renaming the label to match:\n"
          ]
        },
        {
          "output_type": "display_data",
          "data": {
            "text/plain": [
              "<IPython.core.display.HTML object>"
            ],
            "text/html": [
              "<table border=\"1\" class=\"dataframe\">\n",
              "  <thead>\n",
              "    <tr style=\"text-align: right;\">\n",
              "      <th></th>\n",
              "      <th>accident_severity</th>\n",
              "    </tr>\n",
              "  </thead>\n",
              "  <tbody>\n",
              "    <tr>\n",
              "      <th>slight</th>\n",
              "      <td>12691</td>\n",
              "    </tr>\n",
              "    <tr>\n",
              "      <th>serious</th>\n",
              "      <td>11617</td>\n",
              "    </tr>\n",
              "    <tr>\n",
              "      <th>fatal</th>\n",
              "      <td>6167</td>\n",
              "    </tr>\n",
              "  </tbody>\n",
              "</table>"
            ]
          },
          "metadata": {}
        }
      ],
      "source": [
        "print(f\"Some accident_severity has issues so renaming the label to match:\")\n",
        "df.loc[df.accident_severity=='Serious','accident_severity'] = 'serious'\n",
        "df.loc[df.accident_severity=='Slight','accident_severity'] = 'slight'\n",
        "df.loc[df.accident_severity=='Fatal','accident_severity'] = 'fatal'\n",
        "pretty_print_df(df['accident_severity'].value_counts() )\n"
      ]
    },
    {
      "cell_type": "code",
      "execution_count": 9,
      "metadata": {
        "colab": {
          "base_uri": "https://localhost:8080/"
        },
        "id": "acB3KR94rrsO",
        "outputId": "93d8476a-5c3c-4733-a55c-50c2ebeabf39"
      },
      "outputs": [
        {
          "output_type": "stream",
          "name": "stdout",
          "text": [
            "Duplicate records with same index:\n"
          ]
        },
        {
          "output_type": "execute_result",
          "data": {
            "text/plain": [
              "1172"
            ]
          },
          "metadata": {},
          "execution_count": 9
        }
      ],
      "source": [
        "# Index here is accident_index\n",
        "print(f\"Duplicate records with same index:\")\n",
        "df.duplicated(subset = 'accident_index').sum()"
      ]
    },
    {
      "cell_type": "code",
      "execution_count": 10,
      "metadata": {
        "colab": {
          "base_uri": "https://localhost:8080/"
        },
        "id": "uzfu96zJrrsO",
        "outputId": "6446dee8-c4a8-4571-e297-d98a6d686910"
      },
      "outputs": [
        {
          "output_type": "stream",
          "name": "stdout",
          "text": [
            "Data set shape before removing duplicates (31647, 14)\n",
            "Data set shape after removing duplicates (30475, 14)\n"
          ]
        }
      ],
      "source": [
        "print(\"Data set shape before removing duplicates\",df.shape)\n",
        "# dropping dupplicates\n",
        "df = df.drop_duplicates(subset = ['accident_index'])\n",
        "print(\"Data set shape after removing duplicates\",df.shape)"
      ]
    },
    {
      "cell_type": "markdown",
      "metadata": {
        "id": "0XKtsQkgEzzu"
      },
      "source": [
        "### Managing missing data"
      ]
    },
    {
      "cell_type": "code",
      "execution_count": 11,
      "metadata": {
        "colab": {
          "base_uri": "https://localhost:8080/"
        },
        "id": "bmslo58sEU-s",
        "outputId": "0139e4f1-4486-4582-a1f6-13049cc15792"
      },
      "outputs": [
        {
          "output_type": "stream",
          "name": "stdout",
          "text": [
            "The number of NaN in the dataset:\n",
            "accident_index                    0\n",
            "speed_limit                       0\n",
            "light_conditions                  0\n",
            "weather_conditions                0\n",
            "road_surface_conditions           0\n",
            "vehicle_type                      0\n",
            "junction_location                 0\n",
            "skidding_and_overturning          0\n",
            "vehicle_leaving_carriageway       0\n",
            "hit_object_off_carriageway        0\n",
            "first_point_of_impact             0\n",
            "sex_of_driver                     0\n",
            "age_of_oldest_driver           6235\n",
            "accident_severity              1172\n",
            "dtype: int64\n"
          ]
        }
      ],
      "source": [
        "print(\"The number of NaN in the dataset:\")\n",
        "print(df.isna().sum())"
      ]
    },
    {
      "cell_type": "markdown",
      "metadata": {
        "id": "4Al_hqUiFVNB"
      },
      "source": [
        "Removing all rows with accident_severity is missing."
      ]
    },
    {
      "cell_type": "code",
      "execution_count": 12,
      "metadata": {
        "id": "EkOmSoHNE5AW",
        "colab": {
          "base_uri": "https://localhost:8080/"
        },
        "outputId": "fcd88378-a2db-4553-fd9f-4cbc6b5c7a6e"
      },
      "outputs": [
        {
          "output_type": "stream",
          "name": "stdout",
          "text": [
            "Dropping all the records where accident_severity is NaN as accident_severity: (30475, 14)\n",
            "After Dropping all the records where accident_severity is NaN as accident_severity: (29303, 14)\n"
          ]
        }
      ],
      "source": [
        "print(\"Dropping all the records where accident_severity is NaN as accident_severity:\", df.shape)\n",
        "df = df.dropna(subset=[\"accident_severity\"])\n",
        "print(\"After Dropping all the records where accident_severity is NaN as accident_severity:\", df.shape)"
      ]
    },
    {
      "cell_type": "code",
      "execution_count": 13,
      "metadata": {
        "id": "4o_HcO1zrrsP"
      },
      "outputs": [],
      "source": [
        "# Finding all the values with speed_limit less than 0\n",
        "df.loc[df.speed_limit<0, 'speed_limit']= np.nan"
      ]
    },
    {
      "cell_type": "code",
      "execution_count": 14,
      "metadata": {
        "colab": {
          "base_uri": "https://localhost:8080/"
        },
        "id": "r2uDCz8errsQ",
        "outputId": "98c90a59-2b74-4b09-c2fc-30a78948c4cc"
      },
      "outputs": [
        {
          "output_type": "stream",
          "name": "stdout",
          "text": [
            "Dropping all the records where accident_severity is NaN as accident_severity: (29303, 14)\n",
            "After Dropping all the records where accident_severity is NaN as accident_severity: (29280, 14)\n"
          ]
        }
      ],
      "source": [
        "print(\"Dropping all the records where accident_severity is NaN as accident_severity:\", df.shape)\n",
        "df = df.dropna(subset=[\"speed_limit\"])\n",
        "print(\"After Dropping all the records where accident_severity is NaN as accident_severity:\", df.shape)"
      ]
    },
    {
      "cell_type": "code",
      "execution_count": 15,
      "metadata": {
        "colab": {
          "base_uri": "https://localhost:8080/"
        },
        "id": "CMz1ggyWFp32",
        "outputId": "8a4e08a9-14cb-4725-9b6c-1f9a9246b800"
      },
      "outputs": [
        {
          "output_type": "stream",
          "name": "stdout",
          "text": [
            "Count of records with each columns with a NaN value:\n"
          ]
        },
        {
          "output_type": "execute_result",
          "data": {
            "text/plain": [
              "accident_index                    0\n",
              "speed_limit                       0\n",
              "light_conditions                  0\n",
              "weather_conditions                0\n",
              "road_surface_conditions           0\n",
              "vehicle_type                      0\n",
              "junction_location                 0\n",
              "skidding_and_overturning          0\n",
              "vehicle_leaving_carriageway       0\n",
              "hit_object_off_carriageway        0\n",
              "first_point_of_impact             0\n",
              "sex_of_driver                     0\n",
              "age_of_oldest_driver           5959\n",
              "accident_severity                 0\n",
              "dtype: int64"
            ]
          },
          "metadata": {},
          "execution_count": 15
        }
      ],
      "source": [
        "print(\"Count of records with each columns with a NaN value:\")\n",
        "df.isna().sum()"
      ]
    },
    {
      "cell_type": "markdown",
      "metadata": {
        "id": "ScgI3J79K6iX"
      },
      "source": [
        "### Fill missing data with preceding or forwarding values ffill the column age_of_oldest_driver\n",
        "- Since there are around 6000 rows using mean substitutition might cause a bais towards the mean value so a forward substitution is used."
      ]
    },
    {
      "cell_type": "code",
      "execution_count": 16,
      "metadata": {
        "colab": {
          "base_uri": "https://localhost:8080/"
        },
        "id": "MFc2mELHF9V3",
        "outputId": "b52a8bde-bc85-41fb-a120-805b2048d535"
      },
      "outputs": [
        {
          "output_type": "stream",
          "name": "stdout",
          "text": [
            "Count of records with each columns with a NaN value:\n"
          ]
        },
        {
          "output_type": "execute_result",
          "data": {
            "text/plain": [
              "accident_index                    0\n",
              "speed_limit                       0\n",
              "light_conditions                  0\n",
              "weather_conditions                0\n",
              "road_surface_conditions           0\n",
              "vehicle_type                      0\n",
              "junction_location                 0\n",
              "skidding_and_overturning          0\n",
              "vehicle_leaving_carriageway       0\n",
              "hit_object_off_carriageway        0\n",
              "first_point_of_impact             0\n",
              "sex_of_driver                     0\n",
              "age_of_oldest_driver           5959\n",
              "accident_severity                 0\n",
              "dtype: int64"
            ]
          },
          "metadata": {},
          "execution_count": 16
        }
      ],
      "source": [
        "# Summary statistics for numerical features\n",
        "print(\"Count of records with each columns with a NaN value:\")\n",
        "df.isna().sum()"
      ]
    },
    {
      "cell_type": "code",
      "execution_count": 17,
      "metadata": {
        "id": "OL-Nko2JFvas"
      },
      "outputs": [],
      "source": [
        "df = df.fillna({\n",
        "        'age_of_oldest_driver' : df['age_of_oldest_driver'].ffill(),\n",
        "    })"
      ]
    },
    {
      "cell_type": "code",
      "execution_count": 18,
      "metadata": {
        "colab": {
          "base_uri": "https://localhost:8080/"
        },
        "id": "yl9KvujULPxm",
        "outputId": "5d4eb2bb-f950-4832-c7cb-4e6d73d0dcbe"
      },
      "outputs": [
        {
          "output_type": "stream",
          "name": "stdout",
          "text": [
            "Count of records with each columns with a NaN value:\n"
          ]
        },
        {
          "output_type": "execute_result",
          "data": {
            "text/plain": [
              "accident_index                 0\n",
              "speed_limit                    0\n",
              "light_conditions               0\n",
              "weather_conditions             0\n",
              "road_surface_conditions        0\n",
              "vehicle_type                   0\n",
              "junction_location              0\n",
              "skidding_and_overturning       0\n",
              "vehicle_leaving_carriageway    0\n",
              "hit_object_off_carriageway     0\n",
              "first_point_of_impact          0\n",
              "sex_of_driver                  0\n",
              "age_of_oldest_driver           0\n",
              "accident_severity              0\n",
              "dtype: int64"
            ]
          },
          "metadata": {},
          "execution_count": 18
        }
      ],
      "source": [
        "print(\"Count of records with each columns with a NaN value:\")\n",
        "df.isna().sum()"
      ]
    },
    {
      "cell_type": "markdown",
      "metadata": {
        "id": "osxYkMVVrrsR"
      },
      "source": [
        "### Exploratory Data analysis"
      ]
    },
    {
      "cell_type": "code",
      "execution_count": 19,
      "metadata": {
        "colab": {
          "base_uri": "https://localhost:8080/"
        },
        "id": "clcNF_GGLWwW",
        "outputId": "11351bb4-1f0b-49e4-9f46-95273660f970"
      },
      "outputs": [
        {
          "output_type": "execute_result",
          "data": {
            "text/plain": [
              "(29280, 14)"
            ]
          },
          "metadata": {},
          "execution_count": 19
        }
      ],
      "source": [
        "df.shape"
      ]
    },
    {
      "cell_type": "code",
      "execution_count": 20,
      "metadata": {
        "colab": {
          "base_uri": "https://localhost:8080/"
        },
        "id": "FiWZUvOirrsR",
        "outputId": "8e79c5fe-7eb5-4309-ac51-e0c718c497fd"
      },
      "outputs": [
        {
          "output_type": "execute_result",
          "data": {
            "text/plain": [
              "no skidding or overturning                    22551\n",
              "at least one vehicle skidded or overturned     4848\n",
              "data missing or out of range                   1881\n",
              "Name: skidding_and_overturning, dtype: int64"
            ]
          },
          "metadata": {},
          "execution_count": 20
        }
      ],
      "source": [
        "df['skidding_and_overturning'].value_counts()"
      ]
    },
    {
      "cell_type": "code",
      "execution_count": 21,
      "metadata": {
        "colab": {
          "base_uri": "https://localhost:8080/",
          "height": 487
        },
        "id": "7zZXPQYxrrsR",
        "outputId": "62cdb86b-dc25-4bf7-ab48-b1f381a8a762"
      },
      "outputs": [
        {
          "output_type": "display_data",
          "data": {
            "text/plain": [
              "<Figure size 640x480 with 1 Axes>"
            ],
            "image/png": "[encoded data removed]"
          },
          "metadata": {}
        }
      ],
      "source": [
        "import textwrap \n",
        "\n",
        "max_width = 20\n",
        "ax = sns.countplot(x=df[\"skidding_and_overturning\"], )\n",
        "ax.set_xticklabels(textwrap.fill(x.get_text(), max_width) for x in ax.get_xticklabels())\n",
        "ax.set_title(\"Visualisation of skiiding and overturning\")\n",
        "\n",
        "\n",
        "plt.tight_layout()"
      ]
    },
    {
      "cell_type": "code",
      "execution_count": 22,
      "metadata": {
        "colab": {
          "base_uri": "https://localhost:8080/",
          "height": 487
        },
        "id": "hhzGzk4FrrsR",
        "outputId": "5dada403-8835-4f3e-8c51-e712a068e072"
      },
      "outputs": [
        {
          "output_type": "display_data",
          "data": {
            "text/plain": [
              "<Figure size 640x480 with 1 Axes>"
            ],
            "image/png": "[encoded data removed]"
          },
          "metadata": {}
        }
      ],
      "source": [
        "max_width = 20\n",
        "ax = sns.countplot(x=df[\"weather_conditions\"])\n",
        "ax.set_xticklabels(textwrap.fill(x.get_text(), max_width) for x in ax.get_xticklabels())\n",
        "ax.set_title(\"Weather conditions\")\n",
        "\n",
        "\n",
        "plt.tight_layout()"
      ]
    },
    {
      "cell_type": "code",
      "execution_count": 23,
      "metadata": {
        "colab": {
          "base_uri": "https://localhost:8080/",
          "height": 505
        },
        "id": "kgeeK4fmrrsS",
        "outputId": "24bd0705-5ee1-47b7-9b44-ce9314745ef1"
      },
      "outputs": [
        {
          "output_type": "execute_result",
          "data": {
            "text/plain": [
              "Text(0.5, 1.0, 'Sex of driver')"
            ]
          },
          "metadata": {},
          "execution_count": 23
        },
        {
          "output_type": "display_data",
          "data": {
            "text/plain": [
              "<Figure size 640x480 with 1 Axes>"
            ],
            "image/png": "[encoded data removed]"
          },
          "metadata": {}
        }
      ],
      "source": [
        "max_width = 18\n",
        "ax = sns.countplot(x=df[\"sex_of_driver\"], )\n",
        "ax.set_xticklabels(textwrap.fill(x.get_text(), max_width) for x in ax.get_xticklabels())\n",
        "ax.set_title(\"Sex of driver\")\n"
      ]
    },
    {
      "cell_type": "code",
      "execution_count": 24,
      "metadata": {
        "colab": {
          "base_uri": "https://localhost:8080/",
          "height": 487
        },
        "id": "LpfUQS3XaR7S",
        "outputId": "4b85da07-5831-44dc-da71-e6716e967ab9"
      },
      "outputs": [
        {
          "output_type": "execute_result",
          "data": {
            "text/plain": [
              "array([[<Axes: title={'center': 'speed_limit'}>,\n",
              "        <Axes: title={'center': 'age_of_oldest_driver'}>]], dtype=object)"
            ]
          },
          "metadata": {},
          "execution_count": 24
        },
        {
          "output_type": "display_data",
          "data": {
            "text/plain": [
              "<Figure size 640x480 with 2 Axes>"
            ],
            "image/png": "[encoded data removed]"
          },
          "metadata": {}
        }
      ],
      "source": [
        "df.hist()"
      ]
    },
    {
      "cell_type": "code",
      "execution_count": 25,
      "metadata": {
        "colab": {
          "base_uri": "https://localhost:8080/",
          "height": 489
        },
        "id": "znSX_S7fVT24",
        "outputId": "47f006e2-02e4-4552-a729-b1cad3f1719c"
      },
      "outputs": [
        {
          "output_type": "execute_result",
          "data": {
            "text/plain": [
              "Text(0.5, 1.0, 'Accident Severity')"
            ]
          },
          "metadata": {},
          "execution_count": 25
        },
        {
          "output_type": "display_data",
          "data": {
            "text/plain": [
              "<Figure size 640x480 with 1 Axes>"
            ],
            "image/png": "[encoded data removed]"
          },
          "metadata": {}
        }
      ],
      "source": [
        "max_width = 20\n",
        "ax = sns.countplot(x=df[\"accident_severity\"], )\n",
        "ax.set_xticklabels(textwrap.fill(x.get_text(), max_width) for x in ax.get_xticklabels())\n",
        "ax.set_title(\"Accident Severity\")\n"
      ]
    },
    {
      "cell_type": "code",
      "execution_count": 26,
      "metadata": {
        "colab": {
          "base_uri": "https://localhost:8080/",
          "height": 683
        },
        "id": "ST6mC5iJrrsS",
        "outputId": "e97f57c9-5dec-4bae-a55b-c036798ee816"
      },
      "outputs": [
        {
          "output_type": "display_data",
          "data": {
            "text/plain": [
              "<Figure size 800x800 with 1 Axes>"
            ],
            "image/png": "[encoded data removed]"
          },
          "metadata": {}
        }
      ],
      "source": [
        "plt.figure(figsize=(8, 8))\n",
        "cols  = ['slight','serious', 'fatal' ]\n",
        "plt.pie(df['accident_severity'].value_counts(), labels=cols, autopct='%1.1f%%')\n",
        "plt.title('Accident Severity Pie chart', fontsize=20)\n",
        "plt.legend(loc=1)\n",
        "plt.show()"
      ]
    },
    {
      "cell_type": "code",
      "execution_count": 27,
      "metadata": {
        "colab": {
          "base_uri": "https://localhost:8080/",
          "height": 639
        },
        "id": "v77lsIsIrrsS",
        "outputId": "2e693161-28e3-482c-e917-292aac5170e2"
      },
      "outputs": [
        {
          "output_type": "execute_result",
          "data": {
            "text/plain": [
              "Text(0.5, 1.0, 'Sex based severity in accidents')"
            ]
          },
          "metadata": {},
          "execution_count": 27
        },
        {
          "output_type": "display_data",
          "data": {
            "text/plain": [
              "<Figure size 1500x700 with 1 Axes>"
            ],
            "image/png": "[encoded data removed]"
          },
          "metadata": {}
        }
      ],
      "source": [
        "max_width = 10\n",
        "driver_sex = df.groupby(by = ['accident_severity', 'sex_of_driver']).accident_severity.count()\n",
        "\n",
        "index =  [' '.join(x) for x in driver_sex.index]\n",
        "\n",
        "sns.set(rc={'figure.figsize':(15,7)})\n",
        "ax = sns.barplot( x=index , y = driver_sex.values, data = driver_sex, palette=['steelblue'] )\n",
        "ax.set_xticklabels(textwrap.fill(x.get_text(), max_width) for x in ax.get_xticklabels())\n",
        "\n",
        "ax.set_title(\"Sex based severity in accidents\")\n",
        "\n"
      ]
    },
    {
      "cell_type": "markdown",
      "metadata": {
        "id": "qcdFa24MUm93"
      },
      "source": [
        "### Encoding categorical data"
      ]
    },
    {
      "cell_type": "code",
      "execution_count": 28,
      "metadata": {
        "colab": {
          "base_uri": "https://localhost:8080/"
        },
        "id": "taOJRwh1Ubvz",
        "outputId": "56e2ffee-4891-4efd-96d6-96e0fa623928"
      },
      "outputs": [
        {
          "output_type": "stream",
          "name": "stdout",
          "text": [
            "['light_conditions_darkness' 'light_conditions_daylight'\n",
            " 'weather_conditions_data missing or out of range'\n",
            " 'weather_conditions_fine' 'weather_conditions_fog or mist'\n",
            " 'weather_conditions_other'\n",
            " 'road_surface_conditions_data missing or out of range'\n",
            " 'road_surface_conditions_dry'\n",
            " 'road_surface_conditions_flood over 3cm. deep'\n",
            " 'road_surface_conditions_other' 'road_surface_conditions_wet or damp'\n",
            " 'vehicle_type_at least one biped' 'vehicle_type_at least one van'\n",
            " 'vehicle_type_biped and van' 'vehicle_type_data missing or out of range'\n",
            " 'vehicle_type_only cars' 'vehicle_type_other'\n",
            " 'junction_location_at or within 20 metres of junction'\n",
            " 'junction_location_data missing or out of range'\n",
            " 'junction_location_not at or within 20 metres of junction'\n",
            " 'skidding_and_overturning_at least one vehicle skidded or overturned'\n",
            " 'skidding_and_overturning_data missing or out of range'\n",
            " 'skidding_and_overturning_no skidding or overturning'\n",
            " 'vehicle_leaving_carriageway_at least one vehicle leaving carriageway'\n",
            " 'vehicle_leaving_carriageway_data missing or out of range'\n",
            " 'vehicle_leaving_carriageway_none leaving carriageway'\n",
            " 'hit_object_off_carriageway_at least one vehicle hit an object'\n",
            " 'hit_object_off_carriageway_data missing or out of range'\n",
            " 'hit_object_off_carriageway_none hit an object'\n",
            " 'first_point_of_impact_at least one vehicle with frontal impact'\n",
            " 'first_point_of_impact_data missing or out of range'\n",
            " 'first_point_of_impact_no impact'\n",
            " 'first_point_of_impact_other points of impact'\n",
            " 'sex_of_driver_all females' 'sex_of_driver_all males'\n",
            " 'sex_of_driver_data missing or out of range'\n",
            " 'sex_of_driver_male and female' 'accident_index' 'speed_limit'\n",
            " 'age_of_oldest_driver' 'accident_severity']\n"
          ]
        }
      ],
      "source": [
        "from sklearn.compose import ColumnTransformer\n",
        "from sklearn.preprocessing import OneHotEncoder\n",
        "\n",
        "\n",
        "# Using  one hot encoder to encode the various columns\n",
        "ct = ColumnTransformer(\n",
        "    [\n",
        "        (\n",
        "            \"onehot_categorical\",\n",
        "            OneHotEncoder(), \n",
        "            [ 'light_conditions', 'weather_conditions',\n",
        "        'road_surface_conditions', 'vehicle_type', 'junction_location',\n",
        "        'skidding_and_overturning', 'vehicle_leaving_carriageway',\n",
        "        'hit_object_off_carriageway', 'first_point_of_impact', 'sex_of_driver',\n",
        "          ], \n",
        "        ),\n",
        "    ],\n",
        "    remainder=\"passthrough\", \n",
        "    verbose_feature_names_out=False \n",
        ")\n",
        "\n",
        "\n",
        "encoded_array= ct.fit_transform(df) \n",
        "\n",
        "\n",
        "encoded_col_names= ct.get_feature_names_out() \n",
        "print(encoded_col_names) \n",
        "\n",
        "tmp_train_dataset_no_nans = pd.DataFrame(encoded_array, columns=encoded_col_names)"
      ]
    },
    {
      "cell_type": "code",
      "execution_count": 29,
      "metadata": {
        "colab": {
          "base_uri": "https://localhost:8080/"
        },
        "id": "Bk7Ba39KU0RK",
        "outputId": "e93c56bc-2f02-4ad9-cb01-e6a0139da3aa"
      },
      "outputs": [
        {
          "output_type": "execute_result",
          "data": {
            "text/plain": [
              "Index(['light_conditions_darkness', 'light_conditions_daylight',\n",
              "       'weather_conditions_data missing or out of range',\n",
              "       'weather_conditions_fine', 'weather_conditions_fog or mist',\n",
              "       'weather_conditions_other',\n",
              "       'road_surface_conditions_data missing or out of range',\n",
              "       'road_surface_conditions_dry',\n",
              "       'road_surface_conditions_flood over 3cm. deep',\n",
              "       'road_surface_conditions_other', 'road_surface_conditions_wet or damp',\n",
              "       'vehicle_type_at least one biped', 'vehicle_type_at least one van',\n",
              "       'vehicle_type_biped and van',\n",
              "       'vehicle_type_data missing or out of range', 'vehicle_type_only cars',\n",
              "       'vehicle_type_other',\n",
              "       'junction_location_at or within 20 metres of junction',\n",
              "       'junction_location_data missing or out of range',\n",
              "       'junction_location_not at or within 20 metres of junction',\n",
              "       'skidding_and_overturning_at least one vehicle skidded or overturned',\n",
              "       'skidding_and_overturning_data missing or out of range',\n",
              "       'skidding_and_overturning_no skidding or overturning',\n",
              "       'vehicle_leaving_carriageway_at least one vehicle leaving carriageway',\n",
              "       'vehicle_leaving_carriageway_data missing or out of range',\n",
              "       'vehicle_leaving_carriageway_none leaving carriageway',\n",
              "       'hit_object_off_carriageway_at least one vehicle hit an object',\n",
              "       'hit_object_off_carriageway_data missing or out of range',\n",
              "       'hit_object_off_carriageway_none hit an object',\n",
              "       'first_point_of_impact_at least one vehicle with frontal impact',\n",
              "       'first_point_of_impact_data missing or out of range',\n",
              "       'first_point_of_impact_no impact',\n",
              "       'first_point_of_impact_other points of impact',\n",
              "       'sex_of_driver_all females', 'sex_of_driver_all males',\n",
              "       'sex_of_driver_data missing or out of range',\n",
              "       'sex_of_driver_male and female', 'accident_index', 'speed_limit',\n",
              "       'age_of_oldest_driver', 'accident_severity'],\n",
              "      dtype='object')"
            ]
          },
          "metadata": {},
          "execution_count": 29
        }
      ],
      "source": [
        "tmp_train_dataset_no_nans.columns\n"
      ]
    },
    {
      "cell_type": "code",
      "execution_count": 30,
      "metadata": {
        "colab": {
          "base_uri": "https://localhost:8080/",
          "height": 161
        },
        "id": "LGhaYUH4WYrR",
        "outputId": "fe2bb17e-645f-4b52-aff8-0b2e6a001f87"
      },
      "outputs": [
        {
          "output_type": "stream",
          "name": "stdout",
          "text": [
            "Training Labels distribution:\n"
          ]
        },
        {
          "output_type": "display_data",
          "data": {
            "text/plain": [
              "<IPython.core.display.HTML object>"
            ],
            "text/html": [
              "<table border=\"1\" class=\"dataframe\">\n",
              "  <thead>\n",
              "    <tr style=\"text-align: right;\">\n",
              "      <th></th>\n",
              "      <th>accident_severity</th>\n",
              "    </tr>\n",
              "  </thead>\n",
              "  <tbody>\n",
              "    <tr>\n",
              "      <th>slight</th>\n",
              "      <td>12173</td>\n",
              "    </tr>\n",
              "    <tr>\n",
              "      <th>serious</th>\n",
              "      <td>11176</td>\n",
              "    </tr>\n",
              "    <tr>\n",
              "      <th>fatal</th>\n",
              "      <td>5931</td>\n",
              "    </tr>\n",
              "  </tbody>\n",
              "</table>"
            ]
          },
          "metadata": {}
        }
      ],
      "source": [
        "sampleClassBias = tmp_train_dataset_no_nans['accident_severity'].value_counts()\n",
        "print('Training Labels distribution:')\n",
        "pretty_print_df(sampleClassBias)\n"
      ]
    },
    {
      "cell_type": "markdown",
      "metadata": {
        "id": "45SmQrYjRg_N"
      },
      "source": [
        "### Scaling\n",
        "- Using standard minmax scalar"
      ]
    },
    {
      "cell_type": "code",
      "execution_count": 31,
      "metadata": {
        "colab": {
          "base_uri": "https://localhost:8080/"
        },
        "id": "k5vh2RUARjOl",
        "outputId": "f730da23-62d9-4222-f9d5-6680a7d8a999"
      },
      "outputs": [
        {
          "output_type": "stream",
          "name": "stdout",
          "text": [
            "   speed_limit  age_of_oldest_driver\n",
            "0          0.2              0.600000\n",
            "1          0.2              0.800000\n",
            "2          0.4              0.800000\n",
            "3          0.4              0.800000\n",
            "4          0.2              0.347368\n"
          ]
        }
      ],
      "source": [
        "# create the Scaling object\n",
        "from sklearn.preprocessing import MinMaxScaler\n",
        "my_scaler_num= MinMaxScaler()\n",
        "\n",
        "numerical_columns = [\"speed_limit\", \"age_of_oldest_driver\"]\n",
        "# fit and transform the appropriate columns in the training data\n",
        "tmp_train_dataset_no_nans[numerical_columns]= my_scaler_num.fit_transform(tmp_train_dataset_no_nans[numerical_columns]) \n",
        "\n",
        "# show results\n",
        "print(tmp_train_dataset_no_nans[numerical_columns].head())\n"
      ]
    },
    {
      "cell_type": "code",
      "execution_count": 32,
      "metadata": {
        "id": "Dck0tj3UXBUt"
      },
      "outputs": [],
      "source": [
        "tmp_train_dataset_no_nans.drop('accident_index', inplace=True , axis=1)\n"
      ]
    },
    {
      "cell_type": "code",
      "execution_count": 33,
      "metadata": {
        "colab": {
          "base_uri": "https://localhost:8080/"
        },
        "id": "JLrbJICHrrsW",
        "outputId": "6c3f6c65-fb19-401b-f691-d5ad2b565762"
      },
      "outputs": [
        {
          "output_type": "stream",
          "name": "stdout",
          "text": [
            "Index(['light_conditions_darkness', 'light_conditions_daylight',\n",
            "       'weather_conditions_data missing or out of range',\n",
            "       'weather_conditions_fine', 'weather_conditions_fog or mist',\n",
            "       'weather_conditions_other',\n",
            "       'road_surface_conditions_data missing or out of range',\n",
            "       'road_surface_conditions_dry',\n",
            "       'road_surface_conditions_flood over 3cm. deep',\n",
            "       'road_surface_conditions_other', 'road_surface_conditions_wet or damp',\n",
            "       'vehicle_type_at least one biped', 'vehicle_type_at least one van',\n",
            "       'vehicle_type_biped and van',\n",
            "       'vehicle_type_data missing or out of range', 'vehicle_type_only cars',\n",
            "       'vehicle_type_other',\n",
            "       'junction_location_at or within 20 metres of junction',\n",
            "       'junction_location_data missing or out of range',\n",
            "       'junction_location_not at or within 20 metres of junction',\n",
            "       'skidding_and_overturning_at least one vehicle skidded or overturned',\n",
            "       'skidding_and_overturning_data missing or out of range',\n",
            "       'skidding_and_overturning_no skidding or overturning',\n",
            "       'vehicle_leaving_carriageway_at least one vehicle leaving carriageway',\n",
            "       'vehicle_leaving_carriageway_data missing or out of range',\n",
            "       'vehicle_leaving_carriageway_none leaving carriageway',\n",
            "       'hit_object_off_carriageway_at least one vehicle hit an object',\n",
            "       'hit_object_off_carriageway_data missing or out of range',\n",
            "       'hit_object_off_carriageway_none hit an object',\n",
            "       'first_point_of_impact_at least one vehicle with frontal impact',\n",
            "       'first_point_of_impact_data missing or out of range',\n",
            "       'first_point_of_impact_no impact',\n",
            "       'first_point_of_impact_other points of impact',\n",
            "       'sex_of_driver_all females', 'sex_of_driver_all males',\n",
            "       'sex_of_driver_data missing or out of range',\n",
            "       'sex_of_driver_male and female', 'speed_limit', 'age_of_oldest_driver'],\n",
            "      dtype='object')\n",
            "Index(['accident_severity'], dtype='object')\n"
          ]
        }
      ],
      "source": [
        "tmp_train_dataset_no_nans_split = tmp_train_dataset_no_nans.copy()\n",
        "\n",
        "X = tmp_train_dataset_no_nans_split.drop(['accident_severity'], axis = 1)\n",
        "Y = tmp_train_dataset_no_nans[['accident_severity']]\n",
        "\n",
        "print(X.columns)\n",
        "print(Y.columns)"
      ]
    },
    {
      "cell_type": "markdown",
      "metadata": {
        "id": "tfxJTe60rrsW"
      },
      "source": [
        "#### upsampling\n",
        "\n"
      ]
    },
    {
      "cell_type": "code",
      "execution_count": 34,
      "metadata": {
        "id": "Ab4IQiwprrsW"
      },
      "outputs": [],
      "source": [
        "from sklearn.utils import resample\n",
        "\n",
        "#SAMPLING USING SMOTE \n",
        "#Importing SMOTE\n",
        "from imblearn.over_sampling import SMOTE\n",
        "# Oversampling the data\n",
        "smote = SMOTE(random_state = 112)\n",
        "X, Y = smote.fit_resample(X,Y)\n"
      ]
    },
    {
      "cell_type": "code",
      "execution_count": 35,
      "metadata": {
        "id": "7-YHSwJuQfa3",
        "colab": {
          "base_uri": "https://localhost:8080/",
          "height": 752
        },
        "outputId": "6420405c-8998-4904-c9dc-6e9f7f43440c"
      },
      "outputs": [
        {
          "output_type": "stream",
          "name": "stdout",
          "text": [
            "serious    12173\n",
            "fatal      12173\n",
            "slight     12173\n",
            "Name: accident_severity, dtype: int64\n"
          ]
        },
        {
          "output_type": "display_data",
          "data": {
            "text/plain": [
              "<Figure size 800x800 with 1 Axes>"
            ],
            "image/png": "[encoded data removed]"
          },
          "metadata": {}
        }
      ],
      "source": [
        "print(Y['accident_severity'].value_counts())\n",
        "plt.figure(figsize=(8, 8))\n",
        "plt.pie(Y['accident_severity'].value_counts(), labels=Y['accident_severity'].unique(), autopct='%1.1f%%')\n",
        "plt.title('Accident Severity Pie chart', fontsize=20)\n",
        "plt.legend(loc=1)\n",
        "plt.show()"
      ]
    },
    {
      "cell_type": "markdown",
      "metadata": {
        "id": "TIwfiN3URcyz"
      },
      "source": [
        "### Test train "
      ]
    },
    {
      "cell_type": "code",
      "execution_count": 36,
      "metadata": {
        "id": "7e6yBxQkNMI-"
      },
      "outputs": [],
      "source": [
        "from sklearn.model_selection import train_test_split\n",
        "X_train, X_test, Y_train, Y_test = train_test_split(\n",
        "    X, Y, test_size=0.2, random_state=42)"
      ]
    },
    {
      "cell_type": "code",
      "execution_count": 37,
      "metadata": {
        "colab": {
          "base_uri": "https://localhost:8080/"
        },
        "id": "fNgzDL-fQcec",
        "outputId": "5ef25cdc-19e3-49ef-8288-4827fa7b8ecd"
      },
      "outputs": [
        {
          "output_type": "stream",
          "name": "stdout",
          "text": [
            "(29215, 39)\n",
            "(29215, 1)\n"
          ]
        }
      ],
      "source": [
        "print(X_train.shape)\n",
        "print(Y_train.shape)"
      ]
    },
    {
      "cell_type": "markdown",
      "metadata": {
        "id": "iigDsrZjrrsX"
      },
      "source": [
        "### Train and testing models"
      ]
    },
    {
      "cell_type": "markdown",
      "metadata": {
        "id": "c_S0Bz0BrrsX"
      },
      "source": [
        "#### Decision Tree"
      ]
    },
    {
      "cell_type": "code",
      "execution_count": 38,
      "metadata": {
        "id": "VjBcVaM4rrsX"
      },
      "outputs": [],
      "source": [
        "from sklearn.metrics import (classification_report, confusion_matrix, \n",
        "ConfusionMatrixDisplay, accuracy_score, f1_score, mean_squared_error,classification_report)\n",
        "\n",
        "def display_confusion_matrix(Y_test, y_pred):\n",
        "    print(\"Accuracy:\", accuracy_score(Y_test, y_pred))\n",
        "    print(\"F1 score:\", f1_score(Y_test, y_pred, average= 'weighted'))\n",
        "    # print(\"MSE:\", mean_squared_error(Y_test, y_pred, average= 'weighted'))\n",
        "    \n",
        "\n",
        "    confusion_mat = confusion_matrix(Y_test, y_pred)\n",
        "    ConfusionMatrixDisplay(confusion_mat).plot()\n",
        "    "
      ]
    },
    {
      "cell_type": "code",
      "execution_count": 39,
      "metadata": {
        "id": "zqM4cLbnrrsX"
      },
      "outputs": [],
      "source": [
        "from sklearn.tree import DecisionTreeClassifier\n",
        "\n",
        "dtree = DecisionTreeClassifier(criterion=\"entropy\", max_depth=8)\n",
        "\n",
        "dtree = dtree.fit(X_train, Y_train)\n",
        "y_pred = dtree.predict(X_test)"
      ]
    },
    {
      "cell_type": "code",
      "execution_count": 40,
      "metadata": {
        "colab": {
          "base_uri": "https://localhost:8080/",
          "height": 679
        },
        "id": "2ZuVjhj3rrsX",
        "outputId": "591dc6b5-9415-4278-d100-b8f58d1f573c"
      },
      "outputs": [
        {
          "output_type": "stream",
          "name": "stdout",
          "text": [
            "For the Traditional Decision Tree model:\n",
            "Accuracy: 0.7972343921139102\n",
            "F1 score: 0.7948538143347276\n"
          ]
        },
        {
          "output_type": "display_data",
          "data": {
            "text/plain": [
              "<Figure size 1500x700 with 2 Axes>"
            ],
            "image/png": "[encoded data removed]"
          },
          "metadata": {}
        }
      ],
      "source": [
        "print(\"For the Traditional Decision Tree model:\")\n",
        "display_confusion_matrix(Y_test, y_pred)"
      ]
    },
    {
      "cell_type": "code",
      "execution_count": 41,
      "metadata": {
        "colab": {
          "base_uri": "https://localhost:8080/"
        },
        "id": "xGghsRA8rrsY",
        "outputId": "87eec6d2-7414-4b5a-9a63-9cc6da0b0060"
      },
      "outputs": [
        {
          "output_type": "stream",
          "name": "stdout",
          "text": [
            "Best hyperparameters: {'criterion': 'log_loss', 'max_depth': 12}\n"
          ]
        }
      ],
      "source": [
        "from sklearn.metrics import accuracy_score, confusion_matrix, precision_score, recall_score\n",
        "from sklearn.model_selection import RandomizedSearchCV\n",
        "from scipy.stats import randint\n",
        "\n",
        "param_dist = {'max_depth': randint(1,20),\n",
        "            \"criterion\":[\"gini\", \"entropy\", \"log_loss\"]}\n",
        "\n",
        "dtree = DecisionTreeClassifier()\n",
        "\n",
        "\n",
        "search_for_best = RandomizedSearchCV(dtree, \n",
        "                                 param_distributions = param_dist, \n",
        "                                 n_iter=5, \n",
        "                                 cv=5)\n",
        "\n",
        "search_for_best.fit(X_train, Y_train)\n",
        "# Create a variable for the best model\n",
        "best_random_forest = search_for_best.best_estimator_\n",
        "\n",
        "# Print the best hyperparameters\n",
        "print('Best hyperparameters:',  search_for_best.best_params_)"
      ]
    },
    {
      "cell_type": "code",
      "execution_count": 42,
      "metadata": {
        "colab": {
          "base_uri": "https://localhost:8080/",
          "height": 679
        },
        "id": "7dr-IdyQrrsY",
        "outputId": "3a529812-d0e6-4b89-c447-6539abdd1dfd"
      },
      "outputs": [
        {
          "output_type": "stream",
          "name": "stdout",
          "text": [
            "For the Traditional Decision Tree model:\n",
            "Accuracy: 0.7972343921139102\n",
            "F1 score: 0.7948538143347276\n"
          ]
        },
        {
          "output_type": "display_data",
          "data": {
            "text/plain": [
              "<Figure size 1500x700 with 2 Axes>"
            ],
            "image/png": "[encoded data removed]"
          },
          "metadata": {}
        }
      ],
      "source": [
        "print(\"For the Traditional Decision Tree model:\")\n",
        "display_confusion_matrix(Y_test, y_pred)"
      ]
    },
    {
      "cell_type": "markdown",
      "metadata": {
        "id": "QQNV5moOrrsY"
      },
      "source": [
        "#### Random forest"
      ]
    },
    {
      "cell_type": "code",
      "execution_count": 43,
      "metadata": {
        "colab": {
          "base_uri": "https://localhost:8080/",
          "height": 679
        },
        "id": "M9dabn7VrrsY",
        "outputId": "0bca2e32-279a-4604-cf4a-8f7ba5b27176"
      },
      "outputs": [
        {
          "output_type": "stream",
          "name": "stdout",
          "text": [
            "For the Traditional Random forest model:\n",
            "Accuracy: 0.7657447973713034\n",
            "F1 score: 0.7645410020834503\n"
          ]
        },
        {
          "output_type": "display_data",
          "data": {
            "text/plain": [
              "<Figure size 1500x700 with 2 Axes>"
            ],
            "image/png": "[encoded data removed]"
          },
          "metadata": {}
        }
      ],
      "source": [
        "from sklearn.ensemble import RandomForestClassifier\n",
        "\n",
        "random_forest = RandomForestClassifier()\n",
        "random_forest = random_forest.fit(X_train, Y_train)\n",
        "\n",
        "y_pred = random_forest.predict(X_test)\n",
        "print(\"For the Traditional Random forest model:\")\n",
        "display_confusion_matrix(Y_test, y_pred)"
      ]
    },
    {
      "cell_type": "code",
      "execution_count": 44,
      "metadata": {
        "colab": {
          "base_uri": "https://localhost:8080/",
          "height": 117
        },
        "id": "glkrBIEzrrsY",
        "outputId": "c335aeea-63ae-40fd-9e6f-ec21dd022b76"
      },
      "outputs": [
        {
          "output_type": "execute_result",
          "data": {
            "text/plain": [
              "RandomizedSearchCV(cv=5, estimator=RandomForestClassifier(), n_iter=5,\n",
              "                   param_distributions={'criterion': ['gini', 'entropy',\n",
              "                                                      'log_loss'],\n",
              "                                        'max_depth': <scipy.stats._distn_infrastructure.rv_discrete_frozen object at 0x7f7b90547c70>,\n",
              "                                        'n_estimators': <scipy.stats._distn_infrastructure.rv_discrete_frozen object at 0x7f7b840075e0>})"
            ],
            "text/html": [
              "<style>#sk-container-id-1 {color: black;background-color: white;}#sk-container-id-1 pre{padding: 0;}#sk-container-id-1 div.sk-toggleable {background-color: white;}#sk-container-id-1 label.sk-toggleable__label {cursor: pointer;display: block;width: 100%;margin-bottom: 0;padding: 0.3em;box-sizing: border-box;text-align: center;}#sk-container-id-1 label.sk-toggleable__label-arrow:before {content: \"▸\";float: left;margin-right: 0.25em;color: #696969;}#sk-container-id-1 label.sk-toggleable__label-arrow:hover:before {color: black;}#sk-container-id-1 div.sk-estimator:hover label.sk-toggleable__label-arrow:before {color: black;}#sk-container-id-1 div.sk-toggleable__content {max-height: 0;max-width: 0;overflow: hidden;text-align: left;background-color: #f0f8ff;}#sk-container-id-1 div.sk-toggleable__content pre {margin: 0.2em;color: black;border-radius: 0.25em;background-color: #f0f8ff;}#sk-container-id-1 input.sk-toggleable__control:checked~div.sk-toggleable__content {max-height: 200px;max-width: 100%;overflow: auto;}#sk-container-id-1 input.sk-toggleable__control:checked~label.sk-toggleable__label-arrow:before {content: \"▾\";}#sk-container-id-1 div.sk-estimator input.sk-toggleable__control:checked~label.sk-toggleable__label {background-color: #d4ebff;}#sk-container-id-1 div.sk-label input.sk-toggleable__control:checked~label.sk-toggleable__label {background-color: #d4ebff;}#sk-container-id-1 input.sk-hidden--visually {border: 0;clip: rect(1px 1px 1px 1px);clip: rect(1px, 1px, 1px, 1px);height: 1px;margin: -1px;overflow: hidden;padding: 0;position: absolute;width: 1px;}#sk-container-id-1 div.sk-estimator {font-family: monospace;background-color: #f0f8ff;border: 1px dotted black;border-radius: 0.25em;box-sizing: border-box;margin-bottom: 0.5em;}#sk-container-id-1 div.sk-estimator:hover {background-color: #d4ebff;}#sk-container-id-1 div.sk-parallel-item::after {content: \"\";width: 100%;border-bottom: 1px solid gray;flex-grow: 1;}#sk-container-id-1 div.sk-label:hover label.sk-toggleable__label {background-color: #d4ebff;}#sk-container-id-1 div.sk-serial::before {content: \"\";position: absolute;border-left: 1px solid gray;box-sizing: border-box;top: 0;bottom: 0;left: 50%;z-index: 0;}#sk-container-id-1 div.sk-serial {display: flex;flex-direction: column;align-items: center;background-color: white;padding-right: 0.2em;padding-left: 0.2em;position: relative;}#sk-container-id-1 div.sk-item {position: relative;z-index: 1;}#sk-container-id-1 div.sk-parallel {display: flex;align-items: stretch;justify-content: center;background-color: white;position: relative;}#sk-container-id-1 div.sk-item::before, #sk-container-id-1 div.sk-parallel-item::before {content: \"\";position: absolute;border-left: 1px solid gray;box-sizing: border-box;top: 0;bottom: 0;left: 50%;z-index: -1;}#sk-container-id-1 div.sk-parallel-item {display: flex;flex-direction: column;z-index: 1;position: relative;background-color: white;}#sk-container-id-1 div.sk-parallel-item:first-child::after {align-self: flex-end;width: 50%;}#sk-container-id-1 div.sk-parallel-item:last-child::after {align-self: flex-start;width: 50%;}#sk-container-id-1 div.sk-parallel-item:only-child::after {width: 0;}#sk-container-id-1 div.sk-dashed-wrapped {border: 1px dashed gray;margin: 0 0.4em 0.5em 0.4em;box-sizing: border-box;padding-bottom: 0.4em;background-color: white;}#sk-container-id-1 div.sk-label label {font-family: monospace;font-weight: bold;display: inline-block;line-height: 1.2em;}#sk-container-id-1 div.sk-label-container {text-align: center;}#sk-container-id-1 div.sk-container {/* jupyter's `normalize.less` sets `[hidden] { display: none; }` but bootstrap.min.css set `[hidden] { display: none !important; }` so we also need the `!important` here to be able to override the default hidden behavior on the sphinx rendered scikit-learn.org. See: https://github.com/scikit-learn/scikit-learn/issues/21755 */display: inline-block !important;position: relative;}#sk-container-id-1 div.sk-text-repr-fallback {display: none;}</style><div id=\"sk-container-id-1\" class=\"sk-top-container\"><div class=\"sk-text-repr-fallback\"><pre>RandomizedSearchCV(cv=5, estimator=RandomForestClassifier(), n_iter=5,\n",
              "                   param_distributions={&#x27;criterion&#x27;: [&#x27;gini&#x27;, &#x27;entropy&#x27;,\n",
              "                                                      &#x27;log_loss&#x27;],\n",
              "                                        &#x27;max_depth&#x27;: &lt;scipy.stats._distn_infrastructure.rv_discrete_frozen object at 0x7f7b90547c70&gt;,\n",
              "                                        &#x27;n_estimators&#x27;: &lt;scipy.stats._distn_infrastructure.rv_discrete_frozen object at 0x7f7b840075e0&gt;})</pre><b>In a Jupyter environment, please rerun this cell to show the HTML representation or trust the notebook. <br />On GitHub, the HTML representation is unable to render, please try loading this page with nbviewer.org.</b></div><div class=\"sk-container\" hidden><div class=\"sk-item sk-dashed-wrapped\"><div class=\"sk-label-container\"><div class=\"sk-label sk-toggleable\"><input class=\"sk-toggleable__control sk-hidden--visually\" id=\"sk-estimator-id-1\" type=\"checkbox\" ><label for=\"sk-estimator-id-1\" class=\"sk-toggleable__label sk-toggleable__label-arrow\">RandomizedSearchCV</label><div class=\"sk-toggleable__content\"><pre>RandomizedSearchCV(cv=5, estimator=RandomForestClassifier(), n_iter=5,\n",
              "                   param_distributions={&#x27;criterion&#x27;: [&#x27;gini&#x27;, &#x27;entropy&#x27;,\n",
              "                                                      &#x27;log_loss&#x27;],\n",
              "                                        &#x27;max_depth&#x27;: &lt;scipy.stats._distn_infrastructure.rv_discrete_frozen object at 0x7f7b90547c70&gt;,\n",
              "                                        &#x27;n_estimators&#x27;: &lt;scipy.stats._distn_infrastructure.rv_discrete_frozen object at 0x7f7b840075e0&gt;})</pre></div></div></div><div class=\"sk-parallel\"><div class=\"sk-parallel-item\"><div class=\"sk-item\"><div class=\"sk-label-container\"><div class=\"sk-label sk-toggleable\"><input class=\"sk-toggleable__control sk-hidden--visually\" id=\"sk-estimator-id-2\" type=\"checkbox\" ><label for=\"sk-estimator-id-2\" class=\"sk-toggleable__label sk-toggleable__label-arrow\">estimator: RandomForestClassifier</label><div class=\"sk-toggleable__content\"><pre>RandomForestClassifier()</pre></div></div></div><div class=\"sk-serial\"><div class=\"sk-item\"><div class=\"sk-estimator sk-toggleable\"><input class=\"sk-toggleable__control sk-hidden--visually\" id=\"sk-estimator-id-3\" type=\"checkbox\" ><label for=\"sk-estimator-id-3\" class=\"sk-toggleable__label sk-toggleable__label-arrow\">RandomForestClassifier</label><div class=\"sk-toggleable__content\"><pre>RandomForestClassifier()</pre></div></div></div></div></div></div></div></div></div></div>"
            ]
          },
          "metadata": {},
          "execution_count": 44
        }
      ],
      "source": [
        "from sklearn.metrics import accuracy_score, confusion_matrix, precision_score, recall_score\n",
        "from sklearn.model_selection import RandomizedSearchCV\n",
        "from scipy.stats import randint\n",
        "\n",
        "param_dist = {'n_estimators': randint(50,500),\n",
        "              'max_depth': randint(1,20),\n",
        "              \"criterion\": [\"gini\", \"entropy\", \"log_loss\"]}\n",
        "\n",
        "\n",
        "random_forest = RandomForestClassifier()\n",
        "\n",
        "\n",
        "search_for_best = RandomizedSearchCV(random_forest, \n",
        "                                 param_distributions = param_dist, \n",
        "                                 n_iter=5, \n",
        "                                 cv=5)\n",
        "\n",
        "search_for_best.fit(X_train, Y_train)"
      ]
    },
    {
      "cell_type": "code",
      "execution_count": 45,
      "metadata": {
        "colab": {
          "base_uri": "https://localhost:8080/"
        },
        "id": "zTwpPoaSrrsZ",
        "outputId": "488a0371-19f6-43c0-f653-bdcb58e4235d"
      },
      "outputs": [
        {
          "output_type": "stream",
          "name": "stdout",
          "text": [
            "Best hyperparameters:\n",
            "{'criterion': 'entropy', 'max_depth': 12, 'n_estimators': 220}\n"
          ]
        }
      ],
      "source": [
        "# Create a variable for the best model\n",
        "best_random_forest = search_for_best.best_estimator_\n",
        "\n",
        "# Print the best hyperparameters\n",
        "print('Best hyperparameters:',)\n",
        "print( search_for_best.best_params_)"
      ]
    },
    {
      "cell_type": "code",
      "execution_count": 46,
      "metadata": {
        "colab": {
          "base_uri": "https://localhost:8080/",
          "height": 679
        },
        "id": "WlqYNf_0rrsZ",
        "outputId": "3aaf15e9-fa20-4cdf-8568-90ff43d2d3ef"
      },
      "outputs": [
        {
          "output_type": "stream",
          "name": "stdout",
          "text": [
            "For the Traditional Random forest model with best hyper parameters:\n",
            "Accuracy: 0.8077765607886089\n",
            "F1 score: 0.8054253672798117\n"
          ]
        },
        {
          "output_type": "display_data",
          "data": {
            "text/plain": [
              "<Figure size 1500x700 with 2 Axes>"
            ],
            "image/png": "[encoded data removed]"
          },
          "metadata": {}
        }
      ],
      "source": [
        "y_pred = best_random_forest.predict(X_test)\n",
        "print(\"For the Traditional Random forest model with best hyper parameters:\")\n",
        "display_confusion_matrix(Y_test, y_pred)"
      ]
    },
    {
      "cell_type": "markdown",
      "metadata": {
        "id": "TbNMDwrPrrsZ"
      },
      "source": [
        "#### SVM"
      ]
    },
    {
      "cell_type": "code",
      "execution_count": 47,
      "metadata": {
        "colab": {
          "base_uri": "https://localhost:8080/",
          "height": 679
        },
        "id": "oABGz8werrsZ",
        "outputId": "bbc6833a-4d1b-473e-d259-d6f958f5d10a"
      },
      "outputs": [
        {
          "output_type": "stream",
          "name": "stdout",
          "text": [
            "For the Traditional SVM with :\n",
            "Accuracy: 0.7968236582694413\n",
            "F1 score: 0.7949636963072971\n"
          ]
        },
        {
          "output_type": "display_data",
          "data": {
            "text/plain": [
              "<Figure size 1500x700 with 2 Axes>"
            ],
            "image/png": "[encoded data removed]"
          },
          "metadata": {}
        }
      ],
      "source": [
        "from sklearn import svm as sv\n",
        "\n",
        "#Create a svm Classifier\n",
        "svm = sv.SVC(kernel='poly')\n",
        "\n",
        "\n",
        "svm.fit(X_train, Y_train)\n",
        "\n",
        "y_pred = svm.predict(X_test)\n",
        "\n",
        "print(\"For the Traditional SVM with :\")\n",
        "display_confusion_matrix(Y_test, y_pred)"
      ]
    },
    {
      "cell_type": "markdown",
      "metadata": {
        "id": "_AQgQX12rrsZ"
      },
      "source": [
        "#### Neural networks"
      ]
    },
    {
      "cell_type": "code",
      "execution_count": 48,
      "metadata": {
        "colab": {
          "base_uri": "https://localhost:8080/"
        },
        "id": "TuJHRr4HrrsZ",
        "outputId": "44db2436-1d04-4764-e009-e1d5f04cd72e"
      },
      "outputs": [
        {
          "output_type": "stream",
          "name": "stdout",
          "text": [
            "Model: \"sequential\"\n",
            "_________________________________________________________________\n",
            " Layer (type)                Output Shape              Param #   \n",
            "=================================================================\n",
            " embedding (Embedding)       (None, 39, 32)            160000    \n",
            "                                                                 \n",
            " lstm (LSTM)                 (None, 100)               53200     \n",
            "                                                                 \n",
            " dense (Dense)               (None, 3)                 303       \n",
            "                                                                 \n",
            "=================================================================\n",
            "Total params: 213,503\n",
            "Trainable params: 213,503\n",
            "Non-trainable params: 0\n",
            "_________________________________________________________________\n",
            "None\n"
          ]
        }
      ],
      "source": [
        "from keras import Sequential\n",
        "from keras.layers import Embedding, LSTM, Dense, Dropout\n",
        "\n",
        "embedding_size=32\n",
        "max_words=5000\n",
        "\n",
        "model = Sequential()\n",
        "model.add(Embedding(max_words, embedding_size, input_length=X_train.shape[1]))\n",
        "model.add(LSTM(100))\n",
        "model.add(Dense(3,activation='softmax'))\n",
        "model.compile(loss='categorical_crossentropy', optimizer='adam', metrics=['accuracy'])\n",
        "\n",
        "epochs = 10\n",
        "batch_size = 64\n",
        "X_train_fl = np.asarray(X_train).astype('float32')\n",
        "Y_train_dummies = pd.get_dummies(Y_train).values\n",
        "\n",
        "print(model.summary())\n"
      ]
    },
    {
      "cell_type": "code",
      "execution_count": 49,
      "metadata": {
        "colab": {
          "base_uri": "https://localhost:8080/"
        },
        "id": "aReH9cn3rrsa",
        "outputId": "cd352ec5-8d1b-4690-f642-d0783fe3e827"
      },
      "outputs": [
        {
          "output_type": "stream",
          "name": "stdout",
          "text": [
            "Epoch 1/10\n",
            "457/457 [==============================] - 20s 39ms/step - loss: 0.9899 - accuracy: 0.5012\n",
            "Epoch 2/10\n",
            "457/457 [==============================] - 17s 37ms/step - loss: 0.8628 - accuracy: 0.6420\n",
            "Epoch 3/10\n",
            "457/457 [==============================] - 18s 39ms/step - loss: 0.8165 - accuracy: 0.6716\n",
            "Epoch 4/10\n",
            "457/457 [==============================] - 17s 37ms/step - loss: 0.7739 - accuracy: 0.6964\n",
            "Epoch 5/10\n",
            "457/457 [==============================] - 18s 39ms/step - loss: 0.7591 - accuracy: 0.7011\n",
            "Epoch 6/10\n",
            "457/457 [==============================] - 17s 37ms/step - loss: 0.7331 - accuracy: 0.7144\n",
            "Epoch 7/10\n",
            "457/457 [==============================] - 16s 36ms/step - loss: 0.7250 - accuracy: 0.7197\n",
            "Epoch 8/10\n",
            "457/457 [==============================] - 18s 39ms/step - loss: 0.7033 - accuracy: 0.7353\n",
            "Epoch 9/10\n",
            "457/457 [==============================] - 17s 37ms/step - loss: 0.6973 - accuracy: 0.7380\n",
            "Epoch 10/10\n",
            "457/457 [==============================] - 18s 39ms/step - loss: 0.6867 - accuracy: 0.7437\n"
          ]
        }
      ],
      "source": [
        "lstm_model = model.fit(X_train_fl, Y_train_dummies, epochs=epochs, batch_size=batch_size)\n"
      ]
    },
    {
      "cell_type": "code",
      "execution_count": 50,
      "metadata": {
        "colab": {
          "base_uri": "https://localhost:8080/"
        },
        "id": "xl92l032rrsa",
        "outputId": "df5961c0-d8a1-44d2-e115-aa12385f835d"
      },
      "outputs": [
        {
          "output_type": "stream",
          "name": "stdout",
          "text": [
            "Epoch 1/20\n",
            "305/305 [==============================] - 1s 1ms/step - loss: 0.7637 - accuracy: 0.7063\n",
            "Epoch 2/20\n",
            "305/305 [==============================] - 1s 2ms/step - loss: 0.6467 - accuracy: 0.7752\n",
            "Epoch 3/20\n",
            "305/305 [==============================] - 1s 2ms/step - loss: 0.6251 - accuracy: 0.7857\n",
            "Epoch 4/20\n",
            "305/305 [==============================] - 1s 2ms/step - loss: 0.6152 - accuracy: 0.7868\n",
            "Epoch 5/20\n",
            "305/305 [==============================] - 0s 2ms/step - loss: 0.6075 - accuracy: 0.7913\n",
            "Epoch 6/20\n",
            "305/305 [==============================] - 0s 1ms/step - loss: 0.6032 - accuracy: 0.7922\n",
            "Epoch 7/20\n",
            "305/305 [==============================] - 0s 1ms/step - loss: 0.5990 - accuracy: 0.7929\n",
            "Epoch 8/20\n",
            "305/305 [==============================] - 0s 1ms/step - loss: 0.5984 - accuracy: 0.7953\n",
            "Epoch 9/20\n",
            "305/305 [==============================] - 0s 1ms/step - loss: 0.5940 - accuracy: 0.7954\n",
            "Epoch 10/20\n",
            "305/305 [==============================] - 0s 1ms/step - loss: 0.5933 - accuracy: 0.7957\n",
            "Epoch 11/20\n",
            "305/305 [==============================] - 0s 1ms/step - loss: 0.5902 - accuracy: 0.7960\n",
            "Epoch 12/20\n",
            "305/305 [==============================] - 0s 1ms/step - loss: 0.5925 - accuracy: 0.7960\n",
            "Epoch 13/20\n",
            "305/305 [==============================] - 0s 1ms/step - loss: 0.5886 - accuracy: 0.7972\n",
            "Epoch 14/20\n",
            "305/305 [==============================] - 0s 1ms/step - loss: 0.5895 - accuracy: 0.7957\n",
            "Epoch 15/20\n",
            "305/305 [==============================] - 0s 1ms/step - loss: 0.5865 - accuracy: 0.7981\n",
            "Epoch 16/20\n",
            "305/305 [==============================] - 0s 1ms/step - loss: 0.5864 - accuracy: 0.7975\n",
            "Epoch 17/20\n",
            "305/305 [==============================] - 0s 1ms/step - loss: 0.5829 - accuracy: 0.7983\n",
            "Epoch 18/20\n",
            "305/305 [==============================] - 0s 1ms/step - loss: 0.5861 - accuracy: 0.7972\n",
            "Epoch 19/20\n",
            "305/305 [==============================] - 0s 1ms/step - loss: 0.5842 - accuracy: 0.7975\n",
            "Epoch 20/20\n",
            "305/305 [==============================] - 0s 1ms/step - loss: 0.5829 - accuracy: 0.7978\n",
            "153/153 [==============================] - 0s 1ms/step - loss: 0.5800 - accuracy: 0.8020\n",
            "Epoch 1/20\n",
            "305/305 [==============================] - 1s 1ms/step - loss: 0.7777 - accuracy: 0.6991\n",
            "Epoch 2/20\n",
            "305/305 [==============================] - 0s 1ms/step - loss: 0.6435 - accuracy: 0.7780\n",
            "Epoch 3/20\n",
            "305/305 [==============================] - 0s 1ms/step - loss: 0.6234 - accuracy: 0.7870\n",
            "Epoch 4/20\n",
            "305/305 [==============================] - 1s 2ms/step - loss: 0.6099 - accuracy: 0.7921\n",
            "Epoch 5/20\n",
            "305/305 [==============================] - 1s 2ms/step - loss: 0.6049 - accuracy: 0.7933\n",
            "Epoch 6/20\n",
            "305/305 [==============================] - 1s 2ms/step - loss: 0.6011 - accuracy: 0.7951\n",
            "Epoch 7/20\n",
            "305/305 [==============================] - 0s 1ms/step - loss: 0.5946 - accuracy: 0.7965\n",
            "Epoch 8/20\n",
            "305/305 [==============================] - 0s 1ms/step - loss: 0.5910 - accuracy: 0.7972\n",
            "Epoch 9/20\n",
            "305/305 [==============================] - 0s 1ms/step - loss: 0.5912 - accuracy: 0.7982\n",
            "Epoch 10/20\n",
            "305/305 [==============================] - 0s 1ms/step - loss: 0.5898 - accuracy: 0.7977\n",
            "Epoch 11/20\n",
            "305/305 [==============================] - 0s 1ms/step - loss: 0.5878 - accuracy: 0.7987\n",
            "Epoch 12/20\n",
            "305/305 [==============================] - 0s 1ms/step - loss: 0.5846 - accuracy: 0.7982\n",
            "Epoch 13/20\n",
            "305/305 [==============================] - 0s 1ms/step - loss: 0.5857 - accuracy: 0.8001\n",
            "Epoch 14/20\n",
            "305/305 [==============================] - 0s 1ms/step - loss: 0.5845 - accuracy: 0.7996\n",
            "Epoch 15/20\n",
            "305/305 [==============================] - 0s 1ms/step - loss: 0.5823 - accuracy: 0.8002\n",
            "Epoch 16/20\n",
            "305/305 [==============================] - 0s 1ms/step - loss: 0.5831 - accuracy: 0.7996\n",
            "Epoch 17/20\n",
            "305/305 [==============================] - 0s 1ms/step - loss: 0.5794 - accuracy: 0.7998\n",
            "Epoch 18/20\n",
            "305/305 [==============================] - 0s 1ms/step - loss: 0.5808 - accuracy: 0.8006\n",
            "Epoch 19/20\n",
            "305/305 [==============================] - 0s 1ms/step - loss: 0.5811 - accuracy: 0.8007\n",
            "Epoch 20/20\n",
            "305/305 [==============================] - 0s 1ms/step - loss: 0.5795 - accuracy: 0.8017\n",
            "153/153 [==============================] - 0s 1ms/step - loss: 0.5914 - accuracy: 0.7956\n",
            "Epoch 1/20\n",
            "305/305 [==============================] - 1s 1ms/step - loss: 0.7580 - accuracy: 0.7096\n",
            "Epoch 2/20\n",
            "305/305 [==============================] - 0s 1ms/step - loss: 0.6372 - accuracy: 0.7806\n",
            "Epoch 3/20\n",
            "305/305 [==============================] - 0s 1ms/step - loss: 0.6166 - accuracy: 0.7870\n",
            "Epoch 4/20\n",
            "305/305 [==============================] - 0s 1ms/step - loss: 0.6062 - accuracy: 0.7914\n",
            "Epoch 5/20\n",
            "305/305 [==============================] - 1s 2ms/step - loss: 0.5998 - accuracy: 0.7929\n",
            "Epoch 6/20\n",
            "305/305 [==============================] - 1s 2ms/step - loss: 0.5967 - accuracy: 0.7933\n",
            "Epoch 7/20\n",
            "305/305 [==============================] - 1s 2ms/step - loss: 0.5929 - accuracy: 0.7940\n",
            "Epoch 8/20\n",
            "305/305 [==============================] - 1s 2ms/step - loss: 0.5905 - accuracy: 0.7949\n",
            "Epoch 9/20\n",
            "305/305 [==============================] - 0s 1ms/step - loss: 0.5890 - accuracy: 0.7953\n",
            "Epoch 10/20\n",
            "305/305 [==============================] - 0s 1ms/step - loss: 0.5862 - accuracy: 0.7959\n",
            "Epoch 11/20\n",
            "305/305 [==============================] - 0s 1ms/step - loss: 0.5837 - accuracy: 0.7963\n",
            "Epoch 12/20\n",
            "305/305 [==============================] - 0s 1ms/step - loss: 0.5842 - accuracy: 0.7966\n",
            "Epoch 13/20\n",
            "305/305 [==============================] - 0s 1ms/step - loss: 0.5831 - accuracy: 0.7979\n",
            "Epoch 14/20\n",
            "305/305 [==============================] - 0s 1ms/step - loss: 0.5838 - accuracy: 0.7977\n",
            "Epoch 15/20\n",
            "305/305 [==============================] - 0s 1ms/step - loss: 0.5813 - accuracy: 0.7980\n",
            "Epoch 16/20\n",
            "305/305 [==============================] - 0s 1ms/step - loss: 0.5791 - accuracy: 0.7988\n",
            "Epoch 17/20\n",
            "305/305 [==============================] - 0s 1ms/step - loss: 0.5793 - accuracy: 0.7996\n",
            "Epoch 18/20\n",
            "305/305 [==============================] - 0s 1ms/step - loss: 0.5786 - accuracy: 0.7993\n",
            "Epoch 19/20\n",
            "305/305 [==============================] - 0s 1ms/step - loss: 0.5784 - accuracy: 0.7992\n",
            "Epoch 20/20\n",
            "305/305 [==============================] - 0s 1ms/step - loss: 0.5757 - accuracy: 0.8007\n",
            "153/153 [==============================] - 0s 996us/step - loss: 0.5926 - accuracy: 0.7986\n",
            "Epoch 1/40\n",
            "305/305 [==============================] - 1s 1ms/step - loss: 0.7723 - accuracy: 0.7050\n",
            "Epoch 2/40\n",
            "305/305 [==============================] - 0s 1ms/step - loss: 0.6475 - accuracy: 0.7765\n",
            "Epoch 3/40\n",
            "305/305 [==============================] - 0s 1ms/step - loss: 0.6250 - accuracy: 0.7849\n",
            "Epoch 4/40\n",
            "305/305 [==============================] - 0s 1ms/step - loss: 0.6169 - accuracy: 0.7870\n",
            "Epoch 5/40\n",
            "305/305 [==============================] - 0s 1ms/step - loss: 0.6098 - accuracy: 0.7890\n",
            "Epoch 6/40\n",
            "305/305 [==============================] - 0s 1ms/step - loss: 0.6055 - accuracy: 0.7901\n",
            "Epoch 7/40\n",
            "305/305 [==============================] - 0s 2ms/step - loss: 0.6032 - accuracy: 0.7904\n",
            "Epoch 8/40\n",
            "305/305 [==============================] - 0s 1ms/step - loss: 0.5992 - accuracy: 0.7930\n",
            "Epoch 9/40\n",
            "305/305 [==============================] - 1s 2ms/step - loss: 0.5956 - accuracy: 0.7955\n",
            "Epoch 10/40\n",
            "305/305 [==============================] - 1s 2ms/step - loss: 0.5955 - accuracy: 0.7946\n",
            "Epoch 11/40\n",
            "305/305 [==============================] - 1s 2ms/step - loss: 0.5940 - accuracy: 0.7949\n",
            "Epoch 12/40\n",
            "305/305 [==============================] - 1s 2ms/step - loss: 0.5909 - accuracy: 0.7970\n",
            "Epoch 13/40\n",
            "305/305 [==============================] - 0s 1ms/step - loss: 0.5915 - accuracy: 0.7966\n",
            "Epoch 14/40\n",
            "305/305 [==============================] - 0s 1ms/step - loss: 0.5896 - accuracy: 0.7963\n",
            "Epoch 15/40\n",
            "305/305 [==============================] - 0s 1ms/step - loss: 0.5902 - accuracy: 0.7971\n",
            "Epoch 16/40\n",
            "305/305 [==============================] - 0s 1ms/step - loss: 0.5879 - accuracy: 0.7985\n",
            "Epoch 17/40\n",
            "305/305 [==============================] - 0s 1ms/step - loss: 0.5854 - accuracy: 0.7975\n",
            "Epoch 18/40\n",
            "305/305 [==============================] - 0s 1ms/step - loss: 0.5861 - accuracy: 0.7992\n",
            "Epoch 19/40\n",
            "305/305 [==============================] - 0s 1ms/step - loss: 0.5843 - accuracy: 0.7977\n",
            "Epoch 20/40\n",
            "305/305 [==============================] - 0s 1ms/step - loss: 0.5839 - accuracy: 0.7997\n",
            "Epoch 21/40\n",
            "305/305 [==============================] - 0s 1ms/step - loss: 0.5836 - accuracy: 0.7984\n",
            "Epoch 22/40\n",
            "305/305 [==============================] - 0s 1ms/step - loss: 0.5818 - accuracy: 0.7987\n",
            "Epoch 23/40\n",
            "305/305 [==============================] - 0s 1ms/step - loss: 0.5827 - accuracy: 0.7994\n",
            "Epoch 24/40\n",
            "305/305 [==============================] - 0s 1ms/step - loss: 0.5801 - accuracy: 0.7992\n",
            "Epoch 25/40\n",
            "305/305 [==============================] - 0s 1ms/step - loss: 0.5794 - accuracy: 0.7994\n",
            "Epoch 26/40\n",
            "305/305 [==============================] - 0s 1ms/step - loss: 0.5794 - accuracy: 0.7997\n",
            "Epoch 27/40\n",
            "305/305 [==============================] - 0s 1ms/step - loss: 0.5775 - accuracy: 0.7990\n",
            "Epoch 28/40\n",
            "305/305 [==============================] - 0s 1ms/step - loss: 0.5785 - accuracy: 0.8004\n",
            "Epoch 29/40\n",
            "305/305 [==============================] - 0s 1ms/step - loss: 0.5765 - accuracy: 0.8011\n",
            "Epoch 30/40\n",
            "305/305 [==============================] - 0s 1ms/step - loss: 0.5760 - accuracy: 0.7994\n",
            "Epoch 31/40\n",
            "305/305 [==============================] - 0s 1ms/step - loss: 0.5750 - accuracy: 0.8004\n",
            "Epoch 32/40\n",
            "305/305 [==============================] - 0s 1ms/step - loss: 0.5755 - accuracy: 0.8016\n",
            "Epoch 33/40\n",
            "305/305 [==============================] - 0s 1ms/step - loss: 0.5751 - accuracy: 0.8004\n",
            "Epoch 34/40\n",
            "305/305 [==============================] - 0s 1ms/step - loss: 0.5731 - accuracy: 0.8012\n",
            "Epoch 35/40\n",
            "305/305 [==============================] - 0s 2ms/step - loss: 0.5747 - accuracy: 0.8007\n",
            "Epoch 36/40\n",
            "305/305 [==============================] - 1s 2ms/step - loss: 0.5748 - accuracy: 0.8009\n",
            "Epoch 37/40\n",
            "305/305 [==============================] - 1s 2ms/step - loss: 0.5738 - accuracy: 0.8010\n",
            "Epoch 38/40\n",
            "305/305 [==============================] - 1s 2ms/step - loss: 0.5728 - accuracy: 0.8013\n",
            "Epoch 39/40\n",
            "305/305 [==============================] - 0s 1ms/step - loss: 0.5724 - accuracy: 0.8010\n",
            "Epoch 40/40\n",
            "305/305 [==============================] - 0s 1ms/step - loss: 0.5722 - accuracy: 0.8014\n",
            "153/153 [==============================] - 0s 1ms/step - loss: 0.5809 - accuracy: 0.8028\n",
            "Epoch 1/40\n",
            "305/305 [==============================] - 1s 1ms/step - loss: 0.7572 - accuracy: 0.7151\n",
            "Epoch 2/40\n",
            "305/305 [==============================] - 0s 1ms/step - loss: 0.6412 - accuracy: 0.7801\n",
            "Epoch 3/40\n",
            "305/305 [==============================] - 0s 1ms/step - loss: 0.6189 - accuracy: 0.7864\n",
            "Epoch 4/40\n",
            "305/305 [==============================] - 0s 1ms/step - loss: 0.6098 - accuracy: 0.7910\n",
            "Epoch 5/40\n",
            "305/305 [==============================] - 0s 1ms/step - loss: 0.6041 - accuracy: 0.7920\n",
            "Epoch 6/40\n",
            "305/305 [==============================] - 0s 1ms/step - loss: 0.5981 - accuracy: 0.7947\n",
            "Epoch 7/40\n",
            "305/305 [==============================] - 0s 1ms/step - loss: 0.5952 - accuracy: 0.7944\n",
            "Epoch 8/40\n",
            "305/305 [==============================] - 0s 1ms/step - loss: 0.5947 - accuracy: 0.7961\n",
            "Epoch 9/40\n",
            "305/305 [==============================] - 0s 1ms/step - loss: 0.5899 - accuracy: 0.7968\n",
            "Epoch 10/40\n",
            "305/305 [==============================] - 0s 1ms/step - loss: 0.5888 - accuracy: 0.7982\n",
            "Epoch 11/40\n",
            "305/305 [==============================] - 0s 1ms/step - loss: 0.5892 - accuracy: 0.7980\n",
            "Epoch 12/40\n",
            "305/305 [==============================] - 0s 1ms/step - loss: 0.5873 - accuracy: 0.7996\n",
            "Epoch 13/40\n",
            "305/305 [==============================] - 0s 1ms/step - loss: 0.5868 - accuracy: 0.7992\n",
            "Epoch 14/40\n",
            "305/305 [==============================] - 0s 1ms/step - loss: 0.5839 - accuracy: 0.8007\n",
            "Epoch 15/40\n",
            "305/305 [==============================] - 0s 1ms/step - loss: 0.5837 - accuracy: 0.8016\n",
            "Epoch 16/40\n",
            "305/305 [==============================] - 0s 1ms/step - loss: 0.5848 - accuracy: 0.7990\n",
            "Epoch 17/40\n",
            "305/305 [==============================] - 0s 2ms/step - loss: 0.5811 - accuracy: 0.8004\n",
            "Epoch 18/40\n",
            "305/305 [==============================] - 0s 1ms/step - loss: 0.5815 - accuracy: 0.8012\n",
            "Epoch 19/40\n",
            "305/305 [==============================] - 0s 2ms/step - loss: 0.5816 - accuracy: 0.8010\n",
            "Epoch 20/40\n",
            "305/305 [==============================] - 1s 2ms/step - loss: 0.5800 - accuracy: 0.8009\n",
            "Epoch 21/40\n",
            "305/305 [==============================] - 1s 2ms/step - loss: 0.5803 - accuracy: 0.8015\n",
            "Epoch 22/40\n",
            "305/305 [==============================] - 1s 2ms/step - loss: 0.5780 - accuracy: 0.8021\n",
            "Epoch 23/40\n",
            "305/305 [==============================] - 0s 1ms/step - loss: 0.5791 - accuracy: 0.8020\n",
            "Epoch 24/40\n",
            "305/305 [==============================] - 0s 1ms/step - loss: 0.5771 - accuracy: 0.8019\n",
            "Epoch 25/40\n",
            "305/305 [==============================] - 0s 2ms/step - loss: 0.5767 - accuracy: 0.8033\n",
            "Epoch 26/40\n",
            "305/305 [==============================] - 0s 1ms/step - loss: 0.5748 - accuracy: 0.8029\n",
            "Epoch 27/40\n",
            "305/305 [==============================] - 0s 1ms/step - loss: 0.5760 - accuracy: 0.8013\n",
            "Epoch 28/40\n",
            "305/305 [==============================] - 0s 1ms/step - loss: 0.5761 - accuracy: 0.8019\n",
            "Epoch 29/40\n",
            "305/305 [==============================] - 0s 1ms/step - loss: 0.5754 - accuracy: 0.8026\n",
            "Epoch 30/40\n",
            "305/305 [==============================] - 0s 1ms/step - loss: 0.5740 - accuracy: 0.8024\n",
            "Epoch 31/40\n",
            "305/305 [==============================] - 0s 1ms/step - loss: 0.5737 - accuracy: 0.8040\n",
            "Epoch 32/40\n",
            "305/305 [==============================] - 0s 1ms/step - loss: 0.5748 - accuracy: 0.8028\n",
            "Epoch 33/40\n",
            "305/305 [==============================] - 0s 1ms/step - loss: 0.5719 - accuracy: 0.8051\n",
            "Epoch 34/40\n",
            "305/305 [==============================] - 0s 1ms/step - loss: 0.5731 - accuracy: 0.8032\n",
            "Epoch 35/40\n",
            "305/305 [==============================] - 0s 1ms/step - loss: 0.5716 - accuracy: 0.8043\n",
            "Epoch 36/40\n",
            "305/305 [==============================] - 0s 1ms/step - loss: 0.5715 - accuracy: 0.8033\n",
            "Epoch 37/40\n",
            "305/305 [==============================] - 0s 1ms/step - loss: 0.5716 - accuracy: 0.8047\n",
            "Epoch 38/40\n",
            "305/305 [==============================] - 0s 1ms/step - loss: 0.5713 - accuracy: 0.8037\n",
            "Epoch 39/40\n",
            "305/305 [==============================] - 0s 1ms/step - loss: 0.5703 - accuracy: 0.8036\n",
            "Epoch 40/40\n",
            "305/305 [==============================] - 0s 1ms/step - loss: 0.5704 - accuracy: 0.8040\n",
            "153/153 [==============================] - 0s 2ms/step - loss: 0.5893 - accuracy: 0.7972\n",
            "Epoch 1/40\n",
            "305/305 [==============================] - 1s 1ms/step - loss: 0.7593 - accuracy: 0.7152\n",
            "Epoch 2/40\n",
            "305/305 [==============================] - 0s 1ms/step - loss: 0.6365 - accuracy: 0.7807\n",
            "Epoch 3/40\n",
            "305/305 [==============================] - 0s 1ms/step - loss: 0.6155 - accuracy: 0.7873\n",
            "Epoch 4/40\n",
            "305/305 [==============================] - 0s 1ms/step - loss: 0.6055 - accuracy: 0.7902\n",
            "Epoch 5/40\n",
            "305/305 [==============================] - 0s 1ms/step - loss: 0.6015 - accuracy: 0.7913\n",
            "Epoch 6/40\n",
            "305/305 [==============================] - 0s 1ms/step - loss: 0.5969 - accuracy: 0.7920\n",
            "Epoch 7/40\n",
            "305/305 [==============================] - 0s 1ms/step - loss: 0.5931 - accuracy: 0.7933\n",
            "Epoch 8/40\n",
            "305/305 [==============================] - 0s 1ms/step - loss: 0.5911 - accuracy: 0.7949\n",
            "Epoch 9/40\n",
            "305/305 [==============================] - 0s 1ms/step - loss: 0.5885 - accuracy: 0.7954\n",
            "Epoch 10/40\n",
            "305/305 [==============================] - 0s 1ms/step - loss: 0.5856 - accuracy: 0.7963\n",
            "Epoch 11/40\n",
            "305/305 [==============================] - 0s 1ms/step - loss: 0.5847 - accuracy: 0.7964\n",
            "Epoch 12/40\n",
            "305/305 [==============================] - 0s 1ms/step - loss: 0.5848 - accuracy: 0.7974\n",
            "Epoch 13/40\n",
            "305/305 [==============================] - 0s 1ms/step - loss: 0.5848 - accuracy: 0.7972\n",
            "Epoch 14/40\n",
            "305/305 [==============================] - 0s 1ms/step - loss: 0.5810 - accuracy: 0.7990\n",
            "Epoch 15/40\n",
            "305/305 [==============================] - 0s 1ms/step - loss: 0.5815 - accuracy: 0.7986\n",
            "Epoch 16/40\n",
            "305/305 [==============================] - 0s 1ms/step - loss: 0.5794 - accuracy: 0.7996\n",
            "Epoch 17/40\n",
            "305/305 [==============================] - 0s 1ms/step - loss: 0.5791 - accuracy: 0.7996\n",
            "Epoch 18/40\n",
            "305/305 [==============================] - 0s 1ms/step - loss: 0.5795 - accuracy: 0.7986\n",
            "Epoch 19/40\n",
            "305/305 [==============================] - 0s 1ms/step - loss: 0.5784 - accuracy: 0.8002\n",
            "Epoch 20/40\n",
            "305/305 [==============================] - 0s 1ms/step - loss: 0.5790 - accuracy: 0.8011\n",
            "Epoch 21/40\n",
            "305/305 [==============================] - 0s 1ms/step - loss: 0.5770 - accuracy: 0.8008\n",
            "Epoch 22/40\n",
            "305/305 [==============================] - 0s 1ms/step - loss: 0.5752 - accuracy: 0.8010\n",
            "Epoch 23/40\n",
            "305/305 [==============================] - 0s 1ms/step - loss: 0.5773 - accuracy: 0.8012\n",
            "Epoch 24/40\n",
            "305/305 [==============================] - 1s 2ms/step - loss: 0.5749 - accuracy: 0.8005\n",
            "Epoch 25/40\n",
            "305/305 [==============================] - 1s 2ms/step - loss: 0.5740 - accuracy: 0.8013\n",
            "Epoch 26/40\n",
            "305/305 [==============================] - 1s 2ms/step - loss: 0.5721 - accuracy: 0.7999\n",
            "Epoch 27/40\n",
            "305/305 [==============================] - 0s 2ms/step - loss: 0.5720 - accuracy: 0.8009\n",
            "Epoch 28/40\n",
            "305/305 [==============================] - 0s 1ms/step - loss: 0.5730 - accuracy: 0.8018\n",
            "Epoch 29/40\n",
            "305/305 [==============================] - 0s 1ms/step - loss: 0.5724 - accuracy: 0.8036\n",
            "Epoch 30/40\n",
            "305/305 [==============================] - 0s 1ms/step - loss: 0.5706 - accuracy: 0.8025\n",
            "Epoch 31/40\n",
            "305/305 [==============================] - 0s 1ms/step - loss: 0.5718 - accuracy: 0.8024\n",
            "Epoch 32/40\n",
            "305/305 [==============================] - 0s 1ms/step - loss: 0.5700 - accuracy: 0.8019\n",
            "Epoch 33/40\n",
            "305/305 [==============================] - 0s 1ms/step - loss: 0.5690 - accuracy: 0.8022\n",
            "Epoch 34/40\n",
            "305/305 [==============================] - 1s 2ms/step - loss: 0.5696 - accuracy: 0.8030\n",
            "Epoch 35/40\n",
            "305/305 [==============================] - 1s 3ms/step - loss: 0.5694 - accuracy: 0.8036\n",
            "Epoch 36/40\n",
            "305/305 [==============================] - 1s 3ms/step - loss: 0.5683 - accuracy: 0.8039\n",
            "Epoch 37/40\n",
            "305/305 [==============================] - 1s 2ms/step - loss: 0.5663 - accuracy: 0.8044\n",
            "Epoch 38/40\n",
            "305/305 [==============================] - 0s 2ms/step - loss: 0.5687 - accuracy: 0.8032\n",
            "Epoch 39/40\n",
            "305/305 [==============================] - 0s 1ms/step - loss: 0.5688 - accuracy: 0.8027\n",
            "Epoch 40/40\n",
            "305/305 [==============================] - 0s 1ms/step - loss: 0.5663 - accuracy: 0.8047\n",
            "153/153 [==============================] - 0s 1ms/step - loss: 0.5925 - accuracy: 0.7995\n",
            "Epoch 1/20\n",
            "609/609 [==============================] - 2s 2ms/step - loss: 0.7213 - accuracy: 0.7329\n",
            "Epoch 2/20\n",
            "609/609 [==============================] - 1s 2ms/step - loss: 0.6304 - accuracy: 0.7847\n",
            "Epoch 3/20\n",
            "609/609 [==============================] - 1s 1ms/step - loss: 0.6145 - accuracy: 0.7892\n",
            "Epoch 4/20\n",
            "609/609 [==============================] - 1s 1ms/step - loss: 0.6061 - accuracy: 0.7904\n",
            "Epoch 5/20\n",
            "609/609 [==============================] - 1s 1ms/step - loss: 0.6026 - accuracy: 0.7911\n",
            "Epoch 6/20\n",
            "609/609 [==============================] - 1s 1ms/step - loss: 0.5986 - accuracy: 0.7917\n",
            "Epoch 7/20\n",
            "609/609 [==============================] - 1s 1ms/step - loss: 0.5978 - accuracy: 0.7938\n",
            "Epoch 8/20\n",
            "609/609 [==============================] - 1s 1ms/step - loss: 0.5968 - accuracy: 0.7944\n",
            "Epoch 9/20\n",
            "609/609 [==============================] - 1s 1ms/step - loss: 0.5946 - accuracy: 0.7940\n",
            "Epoch 10/20\n",
            "609/609 [==============================] - 1s 1ms/step - loss: 0.5908 - accuracy: 0.7959\n",
            "Epoch 11/20\n",
            "609/609 [==============================] - 1s 1ms/step - loss: 0.5910 - accuracy: 0.7969\n",
            "Epoch 12/20\n",
            "609/609 [==============================] - 1s 1ms/step - loss: 0.5891 - accuracy: 0.7962\n",
            "Epoch 13/20\n",
            "609/609 [==============================] - 1s 1ms/step - loss: 0.5871 - accuracy: 0.7969\n",
            "Epoch 14/20\n",
            "609/609 [==============================] - 1s 2ms/step - loss: 0.5867 - accuracy: 0.7968\n",
            "Epoch 15/20\n",
            "609/609 [==============================] - 1s 2ms/step - loss: 0.5864 - accuracy: 0.7975\n",
            "Epoch 16/20\n",
            "609/609 [==============================] - 1s 1ms/step - loss: 0.5859 - accuracy: 0.7974\n",
            "Epoch 17/20\n",
            "609/609 [==============================] - 1s 1ms/step - loss: 0.5830 - accuracy: 0.7995\n",
            "Epoch 18/20\n",
            "609/609 [==============================] - 1s 1ms/step - loss: 0.5828 - accuracy: 0.7989\n",
            "Epoch 19/20\n",
            "609/609 [==============================] - 1s 1ms/step - loss: 0.5821 - accuracy: 0.7990\n",
            "Epoch 20/20\n",
            "609/609 [==============================] - 1s 1ms/step - loss: 0.5818 - accuracy: 0.7993\n",
            "305/305 [==============================] - 0s 1ms/step - loss: 0.5822 - accuracy: 0.8008\n",
            "Epoch 1/20\n",
            "609/609 [==============================] - 1s 1ms/step - loss: 0.7129 - accuracy: 0.7437\n",
            "Epoch 2/20\n",
            "609/609 [==============================] - 1s 1ms/step - loss: 0.6263 - accuracy: 0.7864\n",
            "Epoch 3/20\n",
            "609/609 [==============================] - 1s 2ms/step - loss: 0.6107 - accuracy: 0.7907\n",
            "Epoch 4/20\n",
            "609/609 [==============================] - 1s 2ms/step - loss: 0.6029 - accuracy: 0.7941\n",
            "Epoch 5/20\n",
            "609/609 [==============================] - 1s 1ms/step - loss: 0.5980 - accuracy: 0.7950\n",
            "Epoch 6/20\n",
            "609/609 [==============================] - 1s 1ms/step - loss: 0.5955 - accuracy: 0.7957\n",
            "Epoch 7/20\n",
            "609/609 [==============================] - 1s 1ms/step - loss: 0.5931 - accuracy: 0.7964\n",
            "Epoch 8/20\n",
            "609/609 [==============================] - 1s 1ms/step - loss: 0.5894 - accuracy: 0.7977\n",
            "Epoch 9/20\n",
            "609/609 [==============================] - 1s 1ms/step - loss: 0.5889 - accuracy: 0.7968\n",
            "Epoch 10/20\n",
            "609/609 [==============================] - 1s 1ms/step - loss: 0.5867 - accuracy: 0.7982\n",
            "Epoch 11/20\n",
            "609/609 [==============================] - 1s 1ms/step - loss: 0.5870 - accuracy: 0.7988\n",
            "Epoch 12/20\n",
            "609/609 [==============================] - 1s 1ms/step - loss: 0.5839 - accuracy: 0.7990\n",
            "Epoch 13/20\n",
            "609/609 [==============================] - 1s 1ms/step - loss: 0.5825 - accuracy: 0.8006\n",
            "Epoch 14/20\n",
            "609/609 [==============================] - 1s 1ms/step - loss: 0.5832 - accuracy: 0.7995\n",
            "Epoch 15/20\n",
            "609/609 [==============================] - 1s 1ms/step - loss: 0.5806 - accuracy: 0.8003\n",
            "Epoch 16/20\n",
            "609/609 [==============================] - 1s 1ms/step - loss: 0.5795 - accuracy: 0.8019\n",
            "Epoch 17/20\n",
            "609/609 [==============================] - 1s 2ms/step - loss: 0.5775 - accuracy: 0.8014\n",
            "Epoch 18/20\n",
            "609/609 [==============================] - 1s 2ms/step - loss: 0.5783 - accuracy: 0.8018\n",
            "Epoch 19/20\n",
            "609/609 [==============================] - 1s 1ms/step - loss: 0.5773 - accuracy: 0.8017\n",
            "Epoch 20/20\n",
            "609/609 [==============================] - 1s 1ms/step - loss: 0.5774 - accuracy: 0.8008\n",
            "305/305 [==============================] - 0s 1ms/step - loss: 0.5929 - accuracy: 0.7962\n",
            "Epoch 1/20\n",
            "609/609 [==============================] - 1s 1ms/step - loss: 0.7142 - accuracy: 0.7343\n",
            "Epoch 2/20\n",
            "609/609 [==============================] - 1s 1ms/step - loss: 0.6177 - accuracy: 0.7857\n",
            "Epoch 3/20\n",
            "609/609 [==============================] - 1s 1ms/step - loss: 0.6038 - accuracy: 0.7908\n",
            "Epoch 4/20\n",
            "609/609 [==============================] - 1s 1ms/step - loss: 0.5971 - accuracy: 0.7922\n",
            "Epoch 5/20\n",
            "609/609 [==============================] - 1s 1ms/step - loss: 0.5942 - accuracy: 0.7926\n",
            "Epoch 6/20\n",
            "609/609 [==============================] - 1s 2ms/step - loss: 0.5909 - accuracy: 0.7957\n",
            "Epoch 7/20\n",
            "609/609 [==============================] - 1s 2ms/step - loss: 0.5903 - accuracy: 0.7951\n",
            "Epoch 8/20\n",
            "609/609 [==============================] - 1s 1ms/step - loss: 0.5865 - accuracy: 0.7953\n",
            "Epoch 9/20\n",
            "609/609 [==============================] - 1s 1ms/step - loss: 0.5870 - accuracy: 0.7970\n",
            "Epoch 10/20\n",
            "609/609 [==============================] - 1s 1ms/step - loss: 0.5855 - accuracy: 0.7960\n",
            "Epoch 11/20\n",
            "609/609 [==============================] - 1s 1ms/step - loss: 0.5824 - accuracy: 0.7988\n",
            "Epoch 12/20\n",
            "609/609 [==============================] - 1s 1ms/step - loss: 0.5825 - accuracy: 0.7978\n",
            "Epoch 13/20\n",
            "609/609 [==============================] - 1s 1ms/step - loss: 0.5819 - accuracy: 0.7982\n",
            "Epoch 14/20\n",
            "609/609 [==============================] - 1s 1ms/step - loss: 0.5806 - accuracy: 0.7989\n",
            "Epoch 15/20\n",
            "609/609 [==============================] - 1s 1ms/step - loss: 0.5774 - accuracy: 0.7997\n",
            "Epoch 16/20\n",
            "609/609 [==============================] - 1s 1ms/step - loss: 0.5778 - accuracy: 0.8001\n",
            "Epoch 17/20\n",
            "609/609 [==============================] - 1s 1ms/step - loss: 0.5761 - accuracy: 0.8012\n",
            "Epoch 18/20\n",
            "609/609 [==============================] - 1s 1ms/step - loss: 0.5778 - accuracy: 0.7995\n",
            "Epoch 19/20\n",
            "609/609 [==============================] - 1s 1ms/step - loss: 0.5761 - accuracy: 0.7993\n",
            "Epoch 20/20\n",
            "609/609 [==============================] - 1s 2ms/step - loss: 0.5752 - accuracy: 0.7993\n",
            "305/305 [==============================] - 1s 1ms/step - loss: 0.5969 - accuracy: 0.7978\n",
            "Epoch 1/40\n",
            "609/609 [==============================] - 1s 1ms/step - loss: 0.7241 - accuracy: 0.7319\n",
            "Epoch 2/40\n",
            "609/609 [==============================] - 1s 1ms/step - loss: 0.6321 - accuracy: 0.7834\n",
            "Epoch 3/40\n",
            "609/609 [==============================] - 1s 1ms/step - loss: 0.6138 - accuracy: 0.7888\n",
            "Epoch 4/40\n",
            "609/609 [==============================] - 1s 1ms/step - loss: 0.6053 - accuracy: 0.7893\n",
            "Epoch 5/40\n",
            "609/609 [==============================] - 1s 1ms/step - loss: 0.6025 - accuracy: 0.7924\n",
            "Epoch 6/40\n",
            "609/609 [==============================] - 1s 1ms/step - loss: 0.5987 - accuracy: 0.7926\n",
            "Epoch 7/40\n",
            "609/609 [==============================] - 1s 1ms/step - loss: 0.5963 - accuracy: 0.7945\n",
            "Epoch 8/40\n",
            "609/609 [==============================] - 1s 1ms/step - loss: 0.5948 - accuracy: 0.7950\n",
            "Epoch 9/40\n",
            "609/609 [==============================] - 1s 1ms/step - loss: 0.5922 - accuracy: 0.7965\n",
            "Epoch 10/40\n",
            "609/609 [==============================] - 1s 1ms/step - loss: 0.5913 - accuracy: 0.7972\n",
            "Epoch 11/40\n",
            "609/609 [==============================] - 1s 1ms/step - loss: 0.5889 - accuracy: 0.7964\n",
            "Epoch 12/40\n",
            "609/609 [==============================] - 1s 1ms/step - loss: 0.5892 - accuracy: 0.7976\n",
            "Epoch 13/40\n",
            "609/609 [==============================] - 1s 2ms/step - loss: 0.5862 - accuracy: 0.7978\n",
            "Epoch 14/40\n",
            "609/609 [==============================] - 1s 2ms/step - loss: 0.5876 - accuracy: 0.7985\n",
            "Epoch 15/40\n",
            "609/609 [==============================] - 1s 1ms/step - loss: 0.5858 - accuracy: 0.7975\n",
            "Epoch 16/40\n",
            "609/609 [==============================] - 1s 1ms/step - loss: 0.5849 - accuracy: 0.7979\n",
            "Epoch 17/40\n",
            "609/609 [==============================] - 1s 1ms/step - loss: 0.5823 - accuracy: 0.7992\n",
            "Epoch 18/40\n",
            "609/609 [==============================] - 1s 2ms/step - loss: 0.5836 - accuracy: 0.7988\n",
            "Epoch 19/40\n",
            "609/609 [==============================] - 1s 2ms/step - loss: 0.5818 - accuracy: 0.7981\n",
            "Epoch 20/40\n",
            "609/609 [==============================] - 1s 2ms/step - loss: 0.5805 - accuracy: 0.7991\n",
            "Epoch 21/40\n",
            "609/609 [==============================] - 1s 1ms/step - loss: 0.5808 - accuracy: 0.7995\n",
            "Epoch 22/40\n",
            "609/609 [==============================] - 1s 1ms/step - loss: 0.5803 - accuracy: 0.7996\n",
            "Epoch 23/40\n",
            "609/609 [==============================] - 1s 1ms/step - loss: 0.5776 - accuracy: 0.7997\n",
            "Epoch 24/40\n",
            "609/609 [==============================] - 1s 1ms/step - loss: 0.5784 - accuracy: 0.8009\n",
            "Epoch 25/40\n",
            "609/609 [==============================] - 1s 2ms/step - loss: 0.5769 - accuracy: 0.8009\n",
            "Epoch 26/40\n",
            "609/609 [==============================] - 1s 2ms/step - loss: 0.5755 - accuracy: 0.7992\n",
            "Epoch 27/40\n",
            "609/609 [==============================] - 1s 1ms/step - loss: 0.5768 - accuracy: 0.8008\n",
            "Epoch 28/40\n",
            "609/609 [==============================] - 1s 1ms/step - loss: 0.5757 - accuracy: 0.8010\n",
            "Epoch 29/40\n",
            "609/609 [==============================] - 1s 1ms/step - loss: 0.5746 - accuracy: 0.7998\n",
            "Epoch 30/40\n",
            "609/609 [==============================] - 1s 1ms/step - loss: 0.5735 - accuracy: 0.8002\n",
            "Epoch 31/40\n",
            "609/609 [==============================] - 1s 1ms/step - loss: 0.5753 - accuracy: 0.8013\n",
            "Epoch 32/40\n",
            "609/609 [==============================] - 1s 1ms/step - loss: 0.5750 - accuracy: 0.8017\n",
            "Epoch 33/40\n",
            "609/609 [==============================] - 1s 1ms/step - loss: 0.5730 - accuracy: 0.8018\n",
            "Epoch 34/40\n",
            "609/609 [==============================] - 1s 1ms/step - loss: 0.5724 - accuracy: 0.8009\n",
            "Epoch 35/40\n",
            "609/609 [==============================] - 1s 1ms/step - loss: 0.5724 - accuracy: 0.8017\n",
            "Epoch 36/40\n",
            "609/609 [==============================] - 1s 1ms/step - loss: 0.5729 - accuracy: 0.8006\n",
            "Epoch 37/40\n",
            "609/609 [==============================] - 1s 1ms/step - loss: 0.5705 - accuracy: 0.8023\n",
            "Epoch 38/40\n",
            "609/609 [==============================] - 1s 1ms/step - loss: 0.5732 - accuracy: 0.8004\n",
            "Epoch 39/40\n",
            "609/609 [==============================] - 1s 2ms/step - loss: 0.5709 - accuracy: 0.8018\n",
            "Epoch 40/40\n",
            "609/609 [==============================] - 1s 2ms/step - loss: 0.5696 - accuracy: 0.8027\n",
            "305/305 [==============================] - 0s 1ms/step - loss: 0.5823 - accuracy: 0.8041\n",
            "Epoch 1/40\n",
            "609/609 [==============================] - 1s 1ms/step - loss: 0.7252 - accuracy: 0.7293\n",
            "Epoch 2/40\n",
            "609/609 [==============================] - 1s 1ms/step - loss: 0.6238 - accuracy: 0.7867\n",
            "Epoch 3/40\n",
            "609/609 [==============================] - 1s 1ms/step - loss: 0.6091 - accuracy: 0.7912\n",
            "Epoch 4/40\n",
            "609/609 [==============================] - 1s 1ms/step - loss: 0.6014 - accuracy: 0.7928\n",
            "Epoch 5/40\n",
            "609/609 [==============================] - 1s 2ms/step - loss: 0.5976 - accuracy: 0.7936\n",
            "Epoch 6/40\n",
            "609/609 [==============================] - 1s 2ms/step - loss: 0.5937 - accuracy: 0.7958\n",
            "Epoch 7/40\n",
            "609/609 [==============================] - 1s 1ms/step - loss: 0.5906 - accuracy: 0.7978\n",
            "Epoch 8/40\n",
            "609/609 [==============================] - 1s 1ms/step - loss: 0.5892 - accuracy: 0.7977\n",
            "Epoch 9/40\n",
            "609/609 [==============================] - 1s 1ms/step - loss: 0.5878 - accuracy: 0.7974\n",
            "Epoch 10/40\n",
            "609/609 [==============================] - 1s 1ms/step - loss: 0.5877 - accuracy: 0.7982\n",
            "Epoch 11/40\n",
            "609/609 [==============================] - 1s 1ms/step - loss: 0.5849 - accuracy: 0.7998\n",
            "Epoch 12/40\n",
            "609/609 [==============================] - 1s 1ms/step - loss: 0.5843 - accuracy: 0.8007\n",
            "Epoch 13/40\n",
            "609/609 [==============================] - 1s 1ms/step - loss: 0.5828 - accuracy: 0.7996\n",
            "Epoch 14/40\n",
            "609/609 [==============================] - 1s 1ms/step - loss: 0.5791 - accuracy: 0.8009\n",
            "Epoch 15/40\n",
            "609/609 [==============================] - 1s 1ms/step - loss: 0.5772 - accuracy: 0.8027\n",
            "Epoch 16/40\n",
            "609/609 [==============================] - 1s 1ms/step - loss: 0.5798 - accuracy: 0.8014\n",
            "Epoch 17/40\n",
            "609/609 [==============================] - 1s 1ms/step - loss: 0.5780 - accuracy: 0.8030\n",
            "Epoch 18/40\n",
            "609/609 [==============================] - 1s 1ms/step - loss: 0.5753 - accuracy: 0.8016\n",
            "Epoch 19/40\n",
            "609/609 [==============================] - 1s 2ms/step - loss: 0.5760 - accuracy: 0.8025\n",
            "Epoch 20/40\n",
            "609/609 [==============================] - 1s 2ms/step - loss: 0.5768 - accuracy: 0.8017\n",
            "Epoch 21/40\n",
            "609/609 [==============================] - 1s 1ms/step - loss: 0.5739 - accuracy: 0.8032\n",
            "Epoch 22/40\n",
            "609/609 [==============================] - 1s 1ms/step - loss: 0.5738 - accuracy: 0.8036\n",
            "Epoch 23/40\n",
            "609/609 [==============================] - 1s 1ms/step - loss: 0.5720 - accuracy: 0.8034\n",
            "Epoch 24/40\n",
            "609/609 [==============================] - 1s 1ms/step - loss: 0.5741 - accuracy: 0.8029\n",
            "Epoch 25/40\n",
            "609/609 [==============================] - 1s 1ms/step - loss: 0.5703 - accuracy: 0.8034\n",
            "Epoch 26/40\n",
            "609/609 [==============================] - 1s 1ms/step - loss: 0.5711 - accuracy: 0.8046\n",
            "Epoch 27/40\n",
            "609/609 [==============================] - 1s 1ms/step - loss: 0.5702 - accuracy: 0.8024\n",
            "Epoch 28/40\n",
            "609/609 [==============================] - 1s 1ms/step - loss: 0.5699 - accuracy: 0.8042\n",
            "Epoch 29/40\n",
            "609/609 [==============================] - 1s 1ms/step - loss: 0.5676 - accuracy: 0.8048\n",
            "Epoch 30/40\n",
            "609/609 [==============================] - 1s 1ms/step - loss: 0.5691 - accuracy: 0.8052\n",
            "Epoch 31/40\n",
            "609/609 [==============================] - 1s 1ms/step - loss: 0.5682 - accuracy: 0.8059\n",
            "Epoch 32/40\n",
            "609/609 [==============================] - 1s 1ms/step - loss: 0.5682 - accuracy: 0.8052\n",
            "Epoch 33/40\n",
            "609/609 [==============================] - 1s 2ms/step - loss: 0.5654 - accuracy: 0.8050\n",
            "Epoch 34/40\n",
            "609/609 [==============================] - 1s 2ms/step - loss: 0.5661 - accuracy: 0.8054\n",
            "Epoch 35/40\n",
            "609/609 [==============================] - 1s 1ms/step - loss: 0.5657 - accuracy: 0.8042\n",
            "Epoch 36/40\n",
            "609/609 [==============================] - 1s 1ms/step - loss: 0.5652 - accuracy: 0.8061\n",
            "Epoch 37/40\n",
            "609/609 [==============================] - 1s 1ms/step - loss: 0.5660 - accuracy: 0.8054\n",
            "Epoch 38/40\n",
            "609/609 [==============================] - 1s 1ms/step - loss: 0.5645 - accuracy: 0.8064\n",
            "Epoch 39/40\n",
            "609/609 [==============================] - 1s 1ms/step - loss: 0.5626 - accuracy: 0.8063\n",
            "Epoch 40/40\n",
            "609/609 [==============================] - 1s 1ms/step - loss: 0.5637 - accuracy: 0.8074\n",
            "305/305 [==============================] - 0s 1ms/step - loss: 0.5900 - accuracy: 0.7976\n",
            "Epoch 1/40\n",
            "609/609 [==============================] - 1s 1ms/step - loss: 0.7276 - accuracy: 0.7225\n",
            "Epoch 2/40\n",
            "609/609 [==============================] - 1s 1ms/step - loss: 0.6225 - accuracy: 0.7862\n",
            "Epoch 3/40\n",
            "609/609 [==============================] - 1s 1ms/step - loss: 0.6077 - accuracy: 0.7896\n",
            "Epoch 4/40\n",
            "609/609 [==============================] - 1s 1ms/step - loss: 0.6008 - accuracy: 0.7918\n",
            "Epoch 5/40\n",
            "609/609 [==============================] - 1s 1ms/step - loss: 0.5969 - accuracy: 0.7940\n",
            "Epoch 6/40\n",
            "609/609 [==============================] - 1s 1ms/step - loss: 0.5925 - accuracy: 0.7951\n",
            "Epoch 7/40\n",
            "609/609 [==============================] - 1s 1ms/step - loss: 0.5910 - accuracy: 0.7956\n",
            "Epoch 8/40\n",
            "609/609 [==============================] - 1s 1ms/step - loss: 0.5885 - accuracy: 0.7956\n",
            "Epoch 9/40\n",
            "609/609 [==============================] - 1s 1ms/step - loss: 0.5876 - accuracy: 0.7954\n",
            "Epoch 10/40\n",
            "609/609 [==============================] - 1s 1ms/step - loss: 0.5850 - accuracy: 0.7985\n",
            "Epoch 11/40\n",
            "609/609 [==============================] - 1s 2ms/step - loss: 0.5844 - accuracy: 0.7983\n",
            "Epoch 12/40\n",
            "609/609 [==============================] - 1s 2ms/step - loss: 0.5823 - accuracy: 0.7984\n",
            "Epoch 13/40\n",
            "609/609 [==============================] - 1s 1ms/step - loss: 0.5796 - accuracy: 0.7989\n",
            "Epoch 14/40\n",
            "609/609 [==============================] - 1s 1ms/step - loss: 0.5806 - accuracy: 0.7969\n",
            "Epoch 15/40\n",
            "609/609 [==============================] - 1s 1ms/step - loss: 0.5789 - accuracy: 0.7991\n",
            "Epoch 16/40\n",
            "609/609 [==============================] - 1s 1ms/step - loss: 0.5803 - accuracy: 0.7993\n",
            "Epoch 17/40\n",
            "609/609 [==============================] - 1s 1ms/step - loss: 0.5781 - accuracy: 0.7993\n",
            "Epoch 18/40\n",
            "609/609 [==============================] - 1s 1ms/step - loss: 0.5754 - accuracy: 0.8012\n",
            "Epoch 19/40\n",
            "609/609 [==============================] - 1s 1ms/step - loss: 0.5763 - accuracy: 0.8004\n",
            "Epoch 20/40\n",
            "609/609 [==============================] - 1s 1ms/step - loss: 0.5745 - accuracy: 0.8018\n",
            "Epoch 21/40\n",
            "609/609 [==============================] - 1s 1ms/step - loss: 0.5737 - accuracy: 0.7999\n",
            "Epoch 22/40\n",
            "609/609 [==============================] - 1s 1ms/step - loss: 0.5765 - accuracy: 0.8006\n",
            "Epoch 23/40\n",
            "609/609 [==============================] - 1s 1ms/step - loss: 0.5739 - accuracy: 0.8022\n",
            "Epoch 24/40\n",
            "609/609 [==============================] - 1s 2ms/step - loss: 0.5726 - accuracy: 0.8021\n",
            "Epoch 25/40\n",
            "609/609 [==============================] - 1s 2ms/step - loss: 0.5725 - accuracy: 0.8016\n",
            "Epoch 26/40\n",
            "609/609 [==============================] - 1s 2ms/step - loss: 0.5709 - accuracy: 0.8038\n",
            "Epoch 27/40\n",
            "609/609 [==============================] - 1s 1ms/step - loss: 0.5695 - accuracy: 0.8021\n",
            "Epoch 28/40\n",
            "609/609 [==============================] - 1s 1ms/step - loss: 0.5704 - accuracy: 0.8029\n",
            "Epoch 29/40\n",
            "609/609 [==============================] - 1s 1ms/step - loss: 0.5686 - accuracy: 0.8028\n",
            "Epoch 30/40\n",
            "609/609 [==============================] - 1s 1ms/step - loss: 0.5682 - accuracy: 0.8018\n",
            "Epoch 31/40\n",
            "609/609 [==============================] - 1s 2ms/step - loss: 0.5680 - accuracy: 0.8036\n",
            "Epoch 32/40\n",
            "609/609 [==============================] - 2s 3ms/step - loss: 0.5675 - accuracy: 0.8028\n",
            "Epoch 33/40\n",
            "609/609 [==============================] - 2s 2ms/step - loss: 0.5683 - accuracy: 0.8020\n",
            "Epoch 34/40\n",
            "609/609 [==============================] - 2s 3ms/step - loss: 0.5653 - accuracy: 0.8030\n",
            "Epoch 35/40\n",
            "609/609 [==============================] - 3s 4ms/step - loss: 0.5659 - accuracy: 0.8043\n",
            "Epoch 36/40\n",
            "609/609 [==============================] - 2s 4ms/step - loss: 0.5654 - accuracy: 0.8027\n",
            "Epoch 37/40\n",
            "609/609 [==============================] - 2s 3ms/step - loss: 0.5640 - accuracy: 0.8040\n",
            "Epoch 38/40\n",
            "609/609 [==============================] - 2s 3ms/step - loss: 0.5646 - accuracy: 0.8051\n",
            "Epoch 39/40\n",
            "609/609 [==============================] - 1s 2ms/step - loss: 0.5644 - accuracy: 0.8050\n",
            "Epoch 40/40\n",
            "609/609 [==============================] - 1s 1ms/step - loss: 0.5639 - accuracy: 0.8044\n",
            "305/305 [==============================] - 0s 1ms/step - loss: 0.5921 - accuracy: 0.7998\n",
            "Epoch 1/40\n",
            "913/913 [==============================] - 2s 1ms/step - loss: 0.6959 - accuracy: 0.7492\n",
            "Epoch 2/40\n",
            "913/913 [==============================] - 1s 1ms/step - loss: 0.6181 - accuracy: 0.7870\n",
            "Epoch 3/40\n",
            "913/913 [==============================] - 1s 1ms/step - loss: 0.6056 - accuracy: 0.7926\n",
            "Epoch 4/40\n",
            "913/913 [==============================] - 1s 1ms/step - loss: 0.5997 - accuracy: 0.7936\n",
            "Epoch 5/40\n",
            "913/913 [==============================] - 1s 1ms/step - loss: 0.5947 - accuracy: 0.7944\n",
            "Epoch 6/40\n",
            "913/913 [==============================] - 2s 2ms/step - loss: 0.5932 - accuracy: 0.7959\n",
            "Epoch 7/40\n",
            "913/913 [==============================] - 2s 2ms/step - loss: 0.5912 - accuracy: 0.7949\n",
            "Epoch 8/40\n",
            "913/913 [==============================] - 1s 1ms/step - loss: 0.5900 - accuracy: 0.7975\n",
            "Epoch 9/40\n",
            "913/913 [==============================] - 1s 1ms/step - loss: 0.5880 - accuracy: 0.7972\n",
            "Epoch 10/40\n",
            "913/913 [==============================] - 1s 1ms/step - loss: 0.5868 - accuracy: 0.7987\n",
            "Epoch 11/40\n",
            "913/913 [==============================] - 1s 1ms/step - loss: 0.5854 - accuracy: 0.7977\n",
            "Epoch 12/40\n",
            "913/913 [==============================] - 1s 1ms/step - loss: 0.5849 - accuracy: 0.7982\n",
            "Epoch 13/40\n",
            "913/913 [==============================] - 1s 1ms/step - loss: 0.5830 - accuracy: 0.7988\n",
            "Epoch 14/40\n",
            "913/913 [==============================] - 1s 1ms/step - loss: 0.5842 - accuracy: 0.7997\n",
            "Epoch 15/40\n",
            "913/913 [==============================] - 2s 2ms/step - loss: 0.5831 - accuracy: 0.7998\n",
            "Epoch 16/40\n",
            "913/913 [==============================] - 1s 2ms/step - loss: 0.5817 - accuracy: 0.8007\n",
            "Epoch 17/40\n",
            "913/913 [==============================] - 1s 1ms/step - loss: 0.5807 - accuracy: 0.8014\n",
            "Epoch 18/40\n",
            "913/913 [==============================] - 1s 1ms/step - loss: 0.5786 - accuracy: 0.8007\n",
            "Epoch 19/40\n",
            "913/913 [==============================] - 1s 1ms/step - loss: 0.5797 - accuracy: 0.8012\n",
            "Epoch 20/40\n",
            "913/913 [==============================] - 1s 1ms/step - loss: 0.5767 - accuracy: 0.8014\n",
            "Epoch 21/40\n",
            "913/913 [==============================] - 1s 1ms/step - loss: 0.5788 - accuracy: 0.8012\n",
            "Epoch 22/40\n",
            "913/913 [==============================] - 1s 1ms/step - loss: 0.5767 - accuracy: 0.8014\n",
            "Epoch 23/40\n",
            "913/913 [==============================] - 1s 1ms/step - loss: 0.5756 - accuracy: 0.8024\n",
            "Epoch 24/40\n",
            "913/913 [==============================] - 2s 2ms/step - loss: 0.5774 - accuracy: 0.8019\n",
            "Epoch 25/40\n",
            "913/913 [==============================] - 1s 2ms/step - loss: 0.5749 - accuracy: 0.8024\n",
            "Epoch 26/40\n",
            "913/913 [==============================] - 1s 1ms/step - loss: 0.5741 - accuracy: 0.8029\n",
            "Epoch 27/40\n",
            "913/913 [==============================] - 1s 1ms/step - loss: 0.5760 - accuracy: 0.8024\n",
            "Epoch 28/40\n",
            "913/913 [==============================] - 1s 1ms/step - loss: 0.5742 - accuracy: 0.8013\n",
            "Epoch 29/40\n",
            "913/913 [==============================] - 1s 1ms/step - loss: 0.5741 - accuracy: 0.8021\n",
            "Epoch 30/40\n",
            "913/913 [==============================] - 1s 1ms/step - loss: 0.5735 - accuracy: 0.8024\n",
            "Epoch 31/40\n",
            "913/913 [==============================] - 1s 1ms/step - loss: 0.5737 - accuracy: 0.8027\n",
            "Epoch 32/40\n",
            "913/913 [==============================] - 1s 1ms/step - loss: 0.5733 - accuracy: 0.8040\n",
            "Epoch 33/40\n",
            "913/913 [==============================] - 2s 2ms/step - loss: 0.5733 - accuracy: 0.8022\n",
            "Epoch 34/40\n",
            "913/913 [==============================] - 2s 2ms/step - loss: 0.5721 - accuracy: 0.8021\n",
            "Epoch 35/40\n",
            "913/913 [==============================] - 1s 1ms/step - loss: 0.5715 - accuracy: 0.8027\n",
            "Epoch 36/40\n",
            "913/913 [==============================] - 1s 1ms/step - loss: 0.5727 - accuracy: 0.8029\n",
            "Epoch 37/40\n",
            "913/913 [==============================] - 1s 1ms/step - loss: 0.5718 - accuracy: 0.8022\n",
            "Epoch 38/40\n",
            "913/913 [==============================] - 1s 1ms/step - loss: 0.5711 - accuracy: 0.8038\n",
            "Epoch 39/40\n",
            "913/913 [==============================] - 1s 1ms/step - loss: 0.5704 - accuracy: 0.8037\n",
            "Epoch 40/40\n",
            "913/913 [==============================] - 1s 1ms/step - loss: 0.5702 - accuracy: 0.8033\n",
            "Best: 0.800479 using {'batch_size': 32, 'dropout_rate': 0.2, 'epochs': 40}\n"
          ]
        }
      ],
      "source": [
        "from keras.models import Sequential\n",
        "from keras.layers import Dense, Dropout\n",
        "from sklearn.model_selection import GridSearchCV\n",
        "import tensorflow as tf\n",
        "from keras.wrappers.scikit_learn import KerasClassifier\n",
        "from tensorflow.keras import datasets, layers, models\n",
        "\n",
        "# Define the model architecture\n",
        "def create_model(dropout_rate=0.0):\n",
        "  model = Sequential()\n",
        "  model.add(Dense(104, activation='relu'))\n",
        "  model.add(Dropout(dropout_rate))\n",
        "  model.add(Dense(3, activation='softmax'))\n",
        "  model.compile(loss='categorical_crossentropy', optimizer='adam', metrics=['accuracy'])\n",
        "  return model\n",
        "\n",
        "model = KerasClassifier(build_fn=create_model)\n",
        "param_grid = {\n",
        "    'batch_size': [64,32],\n",
        "    'epochs': [20,40],\n",
        "    'dropout_rate': [0.2]\n",
        "}\n",
        "\n",
        "# Create the GridSearchCV object\n",
        "grid = GridSearchCV(estimator=model, param_grid=param_grid, cv=3)\n",
        "\n",
        "# Fit the GridSearchCV object to the training data\n",
        "grid_result = grid.fit(X_train_fl,Y_train_dummies)\n",
        "\n",
        "# Print the best hyperparameters and corresponding accuracy score\n",
        "print(\"Best: %f using %s\" % (grid_result.best_score_, grid_result.best_params_))"
      ]
    },
    {
      "cell_type": "code",
      "execution_count": 51,
      "metadata": {
        "colab": {
          "base_uri": "https://localhost:8080/",
          "height": 696
        },
        "id": "EeqIPeMarrsa",
        "outputId": "8539d76f-158e-4b08-d408-a4580a5e9f51"
      },
      "outputs": [
        {
          "output_type": "stream",
          "name": "stdout",
          "text": [
            "229/229 [==============================] - 0s 865us/step\n",
            "For the Neural Network models like LSTM :\n",
            "Accuracy: 0.803395399780942\n",
            "F1 score: 0.8011329098390902\n"
          ]
        },
        {
          "output_type": "display_data",
          "data": {
            "text/plain": [
              "<Figure size 1500x700 with 2 Axes>"
            ],
            "image/png": "[encoded data removed]"
          },
          "metadata": {}
        }
      ],
      "source": [
        "X_test_fl = np.asarray(X_test).astype('float32')\n",
        "best_lstm = grid_result.predict(X_test_fl)\n",
        "\n",
        "print(\"For the Neural Network models like LSTM :\")\n",
        "\n",
        "undummyfied_pred = []\n",
        "for pred in best_lstm:\n",
        "        if pred == 0:\n",
        "            undummyfied_pred.append('fatal')\n",
        "        elif pred == 1:\n",
        "            undummyfied_pred.append('serious')\n",
        "        else:\n",
        "            undummyfied_pred.append('slight')\n",
        "display_confusion_matrix(Y_test, undummyfied_pred)"
      ]
    }
  ],
  "metadata": {
    "colab": {
      "provenance": []
    },
    "kernelspec": {
      "display_name": "Python 3",
      "name": "python3"
    },
    "language_info": {
      "codemirror_mode": {
        "name": "ipython",
        "version": 3
      },
      "file_extension": ".py",
      "mimetype": "text/x-python",
      "name": "python",
      "nbconvert_exporter": "python",
      "pygments_lexer": "ipython3",
      "version": "3.8.2"
    }
  },
  "nbformat": 4,
  "nbformat_minor": 0
}